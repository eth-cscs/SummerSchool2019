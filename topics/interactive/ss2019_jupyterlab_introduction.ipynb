{
 "cells": [
  {
   "cell_type": "markdown",
   "metadata": {},
   "source": [
    "# Introduction to JupyterLab\n",
    "\n",
    "_Tim Robinson, CSCS_\n",
    "\n",
    "This week we will make heavy use of Jupyter Notebooks. Jupyter Notebook is an open-source web app that allows you to create documents that contain code, equations, visualizations and narrative text. It has its origins in IPython, and provides a reference ipython kernel, but it is not limited to Python per se. \n",
    "\n",
    "JupyterLab is the new version of the notebook interface; if you wish, you can switch to the \"classic\" notebook through the Help menu -> Launch Classic Notebook. The classic notebook will eventually be retired. \n",
    "\n",
    "In this notebook we introduce you to some of the fundamentals of using JupyterLab."
   ]
  },
  {
   "cell_type": "markdown",
   "metadata": {},
   "source": [
    "## 1. Modes\n",
    "There are two \"modes\" in Jupyter: **comand** mode and **edit** mode. \n",
    "\n",
    "\"Esc\" puts you in command mode, where you can add or delete cells, for example. \"Enter\" puts you into edit mode, where you can edit the cells. Then in edit mode, \"Shift + Enter\" runs the current cell and focus changes to next cell.  "
   ]
  },
  {
   "cell_type": "code",
   "execution_count": null,
   "metadata": {},
   "outputs": [],
   "source": [
    "print('Hello')"
   ]
  },
  {
   "cell_type": "markdown",
   "metadata": {},
   "source": [
    "## 2. Cell input and output, history"
   ]
  },
  {
   "cell_type": "code",
   "execution_count": null,
   "metadata": {},
   "outputs": [],
   "source": [
    "1+1"
   ]
  },
  {
   "cell_type": "code",
   "execution_count": null,
   "metadata": {},
   "outputs": [],
   "source": [
    "1+1\n",
    "1+2"
   ]
  },
  {
   "cell_type": "markdown",
   "metadata": {},
   "source": [
    "You can refer to output of previous cell with `_`"
   ]
  },
  {
   "cell_type": "code",
   "execution_count": null,
   "metadata": {},
   "outputs": [],
   "source": [
    "_+2"
   ]
  },
  {
   "cell_type": "markdown",
   "metadata": {},
   "source": [
    "Likewise for `_N` and `Out[N]`"
   ]
  },
  {
   "cell_type": "code",
   "execution_count": null,
   "metadata": {},
   "outputs": [],
   "source": [
    "_7+5"
   ]
  },
  {
   "cell_type": "markdown",
   "metadata": {},
   "source": [
    "You can suppress storage and rendering of output with `;` (useful for large results like figures or pandas dataframe)"
   ]
  },
  {
   "cell_type": "code",
   "execution_count": null,
   "metadata": {},
   "outputs": [],
   "source": [
    "1+2;"
   ]
  },
  {
   "cell_type": "markdown",
   "metadata": {},
   "source": [
    "A rich history is available with the `%history` magic. Documentation with `%history?`\n"
   ]
  },
  {
   "cell_type": "code",
   "execution_count": null,
   "metadata": {},
   "outputs": [],
   "source": [
    "%history -n 1-5"
   ]
  },
  {
   "cell_type": "markdown",
   "metadata": {},
   "source": [
    "## 3. Out of order execution \n",
    "Cells can be run in arbitrary order. A cell is given a number after it is executed."
   ]
  },
  {
   "cell_type": "code",
   "execution_count": null,
   "metadata": {},
   "outputs": [],
   "source": [
    "name = \"Tim\""
   ]
  },
  {
   "cell_type": "code",
   "execution_count": null,
   "metadata": {},
   "outputs": [],
   "source": [
    "name = \"Rafael\""
   ]
  },
  {
   "cell_type": "code",
   "execution_count": null,
   "metadata": {},
   "outputs": [],
   "source": [
    "name"
   ]
  },
  {
   "cell_type": "markdown",
   "metadata": {},
   "source": [
    "## 4. Help\n",
    "### Help menu\n",
    "Inside the **Help** menu you’ll find handy links to the online documentation for common libraries including NumPy, SciPy, pandas, and Matplotlib."
   ]
  },
  {
   "cell_type": "markdown",
   "metadata": {},
   "source": [
    "### Question mark operator \n",
    "Global help from question mark itself: "
   ]
  },
  {
   "cell_type": "code",
   "execution_count": null,
   "metadata": {},
   "outputs": [],
   "source": [
    "?"
   ]
  },
  {
   "cell_type": "markdown",
   "metadata": {},
   "source": [
    "Typing `object_name?` will print details about objects including docstrings, function definitions..."
   ]
  },
  {
   "cell_type": "code",
   "execution_count": null,
   "metadata": {},
   "outputs": [],
   "source": [
    "import numpy as np\n",
    "np?"
   ]
  },
  {
   "cell_type": "markdown",
   "metadata": {},
   "source": [
    "### While you are typing...\n",
    "\"Shift + Tab\" will show you the Docstring (documentation) for the the object you have just typed in a code cell."
   ]
  },
  {
   "cell_type": "code",
   "execution_count": null,
   "metadata": {},
   "outputs": [],
   "source": [
    "np."
   ]
  },
  {
   "cell_type": "markdown",
   "metadata": {},
   "source": [
    "### Wildcards"
   ]
  },
  {
   "cell_type": "markdown",
   "metadata": {},
   "source": [
    "If you remember that there was a function but you can't remember the exact name, you can use quesiton mark and it will look through your namespace to find something that matches. "
   ]
  },
  {
   "cell_type": "code",
   "execution_count": null,
   "metadata": {},
   "outputs": [],
   "source": [
    "*int*?"
   ]
  },
  {
   "cell_type": "markdown",
   "metadata": {},
   "source": [
    "### Quickref"
   ]
  },
  {
   "cell_type": "code",
   "execution_count": null,
   "metadata": {},
   "outputs": [],
   "source": [
    "%quickref"
   ]
  },
  {
   "cell_type": "markdown",
   "metadata": {},
   "source": [
    "## 5. Tab completion \n",
    "Tab completion is useful to explore the structure of objects. Type `object_name.<TAB>` to view the objects attributes. Tab completion works for Python objects and keywords and also file and directory names."
   ]
  },
  {
   "cell_type": "code",
   "execution_count": null,
   "metadata": {},
   "outputs": [],
   "source": []
  },
  {
   "cell_type": "markdown",
   "metadata": {},
   "source": [
    "## 6. Keyboard shortcuts\n",
    "\n",
    "Some useful shortcuts:\n",
    "\n",
    "`Esc` puts you in command mode, where you can navigate around your notebook with arrow keys.\n",
    "    \n",
    "While in command mode:\n",
    "        \n",
    "`A` to insert a new cell above the current cell \n",
    "\n",
    "`B` to insert a new cell below.\n",
    "\n",
    "`M` to change the current cell to Markdown \n",
    "\n",
    "`Y` to change the current cell to code\n",
    "\n",
    "`DD`  (press the key twice) to delete the current cell\n",
    "\n",
    "`Enter` will take you into edit mode for the given cell.\n",
    "\n",
    "`Ctrl + Shift + -` will split the current cell into two from where your cursor is.    \n",
    "\n",
    "`Shift + Enter` runs the current cell and focus changes to next cell\n",
    "\n",
    "`Ctrl + Enter` runs the current cell without advancing\n",
    "\n",
    "`Option + Enter` runs the current cell and inserts a new cell below \n",
    "\n",
    "`II` (two i's) Interrupts the kernel\n",
    "\n",
    "`00` (two zeroes) Restarts the kernel\n",
    "\n",
    "`Command + Shift + C` brings you to the Command Palette, from where you can search basically any command and find the keyboard shortcuts."
   ]
  },
  {
   "cell_type": "markdown",
   "metadata": {},
   "source": [
    "## 7. Markdown"
   ]
  },
  {
   "cell_type": "markdown",
   "metadata": {},
   "source": [
    "# Heading at level 1\n",
    "## Subheading\n",
    "### Subsubheading...\n",
    "$y = x^2$ Math is handled automatically\n",
    "\n",
    "Here is some _italic_ or *italic*. \n",
    "\n",
    "Here is **bold** or __bold__. \n",
    "\n",
    "Can __*also*__ be nested!\n",
    "\n",
    "\n",
    "Make a list\n",
    "1. a list item \n",
    "2. another list item \n",
    " \n",
    "        And you likely will need to show something unformatted"
   ]
  },
  {
   "cell_type": "markdown",
   "metadata": {},
   "source": [
    "And you can load iFrames into your notebook"
   ]
  },
  {
   "cell_type": "code",
   "execution_count": null,
   "metadata": {},
   "outputs": [],
   "source": [
    "from IPython.display import IFrame\n",
    "IFrame('https://www.cscs.ch/events/upcoming-events/event-detail/cscs-usi-summer-school-2019/', 800, 400)"
   ]
  },
  {
   "cell_type": "markdown",
   "metadata": {},
   "source": [
    "## 8. Bash commands\n",
    "\n",
    "You can call the underlying shell with an exclamation point (bang) operator. This works because if you use invalid Python syntax IPython tries to do something clever for you."
   ]
  },
  {
   "cell_type": "code",
   "execution_count": null,
   "metadata": {},
   "outputs": [],
   "source": [
    "!pwd"
   ]
  },
  {
   "cell_type": "code",
   "execution_count": null,
   "metadata": {},
   "outputs": [],
   "source": [
    "!ls -al *.py"
   ]
  },
  {
   "cell_type": "markdown",
   "metadata": {},
   "source": [
    "## 9. Magics\n",
    "\n",
    "Magics are special built-in commands for Jupyter that begin with one or two percent signs `%`. Single percent sign (known as \"line magics\") means the arguments are all on one line. Two percent signs (\"cell magics\") means the entire cell are the arguments to the command.   "
   ]
  },
  {
   "cell_type": "code",
   "execution_count": null,
   "metadata": {},
   "outputs": [],
   "source": [
    "%magic"
   ]
  },
  {
   "cell_type": "markdown",
   "metadata": {},
   "source": [
    "### List avail magics"
   ]
  },
  {
   "cell_type": "code",
   "execution_count": null,
   "metadata": {},
   "outputs": [],
   "source": [
    "%lsmagic "
   ]
  },
  {
   "cell_type": "code",
   "execution_count": null,
   "metadata": {},
   "outputs": [],
   "source": [
    "%pwd"
   ]
  },
  {
   "cell_type": "code",
   "execution_count": null,
   "metadata": {},
   "outputs": [],
   "source": [
    "%ls *.ipynb"
   ]
  },
  {
   "cell_type": "markdown",
   "metadata": {},
   "source": [
    "## Timing code snippets or cells"
   ]
  },
  {
   "cell_type": "markdown",
   "metadata": {},
   "source": [
    "Use `%time`, `%timeit`, `%%time`, and `%%timeit` magics to benchmark snippets of your code."
   ]
  },
  {
   "cell_type": "code",
   "execution_count": null,
   "metadata": {},
   "outputs": [],
   "source": [
    "import numpy as np\n",
    "from numpy.random import randint\n",
    "\n",
    "# A function to simulate a million dice throws.\n",
    "def one_million_dice():\n",
    "    return randint(low=1, high=7, size=1000000)"
   ]
  },
  {
   "cell_type": "code",
   "execution_count": null,
   "metadata": {},
   "outputs": [],
   "source": [
    "%time throws = one_million_dice()\n",
    "%time mean = np.mean(throws)"
   ]
  },
  {
   "cell_type": "code",
   "execution_count": null,
   "metadata": {},
   "outputs": [],
   "source": [
    "%timeit throws = one_million_dice()\n",
    "%timeit mean = np.mean(throws)"
   ]
  },
  {
   "cell_type": "code",
   "execution_count": null,
   "metadata": {},
   "outputs": [],
   "source": [
    "%%timeit\n",
    "throws = one_million_dice()\n",
    "mean = np.mean(throws)"
   ]
  },
  {
   "cell_type": "markdown",
   "metadata": {},
   "source": [
    "## Working with external files"
   ]
  },
  {
   "cell_type": "markdown",
   "metadata": {},
   "source": [
    "### Writing files\n",
    "Write the contents of the cell to a file with the `%%writefile` cell magic.\n",
    "\n",
    "The file will be overwritten unless the -a (–append) flag is specified."
   ]
  },
  {
   "cell_type": "code",
   "execution_count": null,
   "metadata": {},
   "outputs": [],
   "source": [
    "%%writefile python_snippet.py\n",
    "\n",
    "def some_code():\n",
    "    print('writing a file with writefile')\n",
    "    return 'Value'\n",
    "\n",
    "some_code()"
   ]
  },
  {
   "cell_type": "markdown",
   "metadata": {},
   "source": [
    "### Reading files\n",
    "Examine the contents of a file with the `%pycat` line magic. Similar to the cat utility, but will show Python syntax highlighting."
   ]
  },
  {
   "cell_type": "code",
   "execution_count": null,
   "metadata": {},
   "outputs": [],
   "source": [
    "%pycat python_snippet.py"
   ]
  },
  {
   "cell_type": "markdown",
   "metadata": {},
   "source": [
    "### Loading files \n",
    "The `%load` line magic will replace the contents of the cell with an external script. Run a second time to execute. "
   ]
  },
  {
   "cell_type": "code",
   "execution_count": null,
   "metadata": {},
   "outputs": [],
   "source": [
    "%load python_snippet.py"
   ]
  },
  {
   "cell_type": "markdown",
   "metadata": {},
   "source": [
    "### Run a file directly from the notebook\n",
    "Run a Python script or notebook with **%run** magic "
   ]
  },
  {
   "cell_type": "code",
   "execution_count": null,
   "metadata": {},
   "outputs": [],
   "source": [
    "%run python_snippet.py"
   ]
  },
  {
   "cell_type": "markdown",
   "metadata": {},
   "source": [
    "## Matplotlib magic\n",
    "\n",
    "`%matplotlib inline` magic command allows matplotlib charts to be displayed directly in the notebook. "
   ]
  },
  {
   "cell_type": "code",
   "execution_count": null,
   "metadata": {},
   "outputs": [],
   "source": [
    "%matplotlib inline"
   ]
  },
  {
   "cell_type": "code",
   "execution_count": null,
   "metadata": {},
   "outputs": [],
   "source": [
    "\"\"\"\n",
    "Simple matplotlib demo to produce a sin curve     \n",
    "\"\"\"\n",
    "import numpy as np\n",
    "import matplotlib.pyplot as plt\n",
    "\n",
    "t = np.arange(0.0, 2.0, 0.01)\n",
    "s = 1 + np.sin(2*np.pi*t)\n",
    "plt.plot(t, s)\n",
    "\n",
    "plt.xlabel('time (s)')\n",
    "plt.ylabel('voltage (mV)')\n",
    "plt.title('Summer School JupyterLab demo')\n",
    "plt.grid(True)\n",
    "plt.show()"
   ]
  },
  {
   "cell_type": "markdown",
   "metadata": {},
   "source": [
    "## Other languages in the same notebook"
   ]
  },
  {
   "cell_type": "code",
   "execution_count": null,
   "metadata": {},
   "outputs": [],
   "source": [
    "%%bash\n",
    "for i in {1..5}\n",
    "do\n",
    "   echo \"i is $i\"\n",
    "done"
   ]
  },
  {
   "cell_type": "code",
   "execution_count": null,
   "metadata": {},
   "outputs": [],
   "source": [
    "%%perl\n",
    "@days = (\"Monday\", \"Tuesday\", \"Wednesday\");\n",
    "print $days[0];"
   ]
  },
  {
   "cell_type": "code",
   "execution_count": null,
   "metadata": {},
   "outputs": [],
   "source": [
    "%%python2\n",
    "a = 23 \n",
    "print a\n",
    "print \"look folks, no brackets!\""
   ]
  },
  {
   "cell_type": "markdown",
   "metadata": {},
   "source": [
    "## IPython pasted from a terminal"
   ]
  },
  {
   "cell_type": "code",
   "execution_count": null,
   "metadata": {},
   "outputs": [],
   "source": [
    "In [3]: import numpy as np\n",
    "\n",
    "In [4]: for i in range(10):\n",
    "   ...:     print(i)\n",
    "   ...:     "
   ]
  },
  {
   "cell_type": "markdown",
   "metadata": {},
   "source": [
    "## 10. Interactivity\n",
    "\n",
    "Interactivity is one of the most powerful reasons for using notebooks. "
   ]
  },
  {
   "cell_type": "markdown",
   "metadata": {},
   "source": [
    "### IPython Widgets"
   ]
  },
  {
   "cell_type": "code",
   "execution_count": null,
   "metadata": {},
   "outputs": [],
   "source": [
    "import ipywidgets "
   ]
  },
  {
   "cell_type": "code",
   "execution_count": null,
   "metadata": {},
   "outputs": [],
   "source": [
    "int_range_slider = ipywidgets.IntSlider()\n",
    "display(int_range_slider)"
   ]
  },
  {
   "cell_type": "code",
   "execution_count": null,
   "metadata": {},
   "outputs": [],
   "source": [
    "int_range_slider.value"
   ]
  },
  {
   "cell_type": "code",
   "execution_count": null,
   "metadata": {},
   "outputs": [],
   "source": [
    "toggler=ipywidgets.ToggleButtons(options=['Slow', 'medium', 'Fast'])\n",
    "display(toggler)"
   ]
  },
  {
   "cell_type": "code",
   "execution_count": null,
   "metadata": {},
   "outputs": [],
   "source": [
    "toggler.value"
   ]
  },
  {
   "cell_type": "code",
   "execution_count": null,
   "metadata": {},
   "outputs": [],
   "source": [
    "int_range_slider = ipywidgets.IntSlider(value=5, min=0, max=20, step=1)\n",
    "int_range_slider"
   ]
  },
  {
   "cell_type": "code",
   "execution_count": null,
   "metadata": {},
   "outputs": [],
   "source": [
    "multiselect=ipywidgets.SelectMultiple(options=['col_{}'.format(i) for i in range(5)],                                      \n",
    "                                      value=['col_{}'.format(i) for i in range(5)])\n",
    "multiselect"
   ]
  },
  {
   "cell_type": "code",
   "execution_count": null,
   "metadata": {},
   "outputs": [],
   "source": [
    "from ipywidgets import interact, fixed\n",
    "import pandas as pd\n",
    "import numpy as np\n",
    "\n",
    "def show_df(df, rows, columns):\n",
    "    tmp = df[list(columns)]\n",
    "    display(tmp.head(rows))\n",
    "\n",
    "table = pd.DataFrame(np.random.random((20,5)), columns=['col_{}'.format(i) for i in range(5)])"
   ]
  },
  {
   "cell_type": "code",
   "execution_count": null,
   "metadata": {},
   "outputs": [],
   "source": [
    "interact(show_df, df=fixed(table), rows=int_range_slider, columns=multiselect);"
   ]
  },
  {
   "cell_type": "markdown",
   "metadata": {},
   "source": [
    "### Qgrid widgets\n",
    "Qgrid is a widget for rendering pandas DataFrames within a Jupyter notebook. This allows you to explore your DataFrames with intuitive scrolling, sorting, and filtering controls, as well as edit your DataFrames by double clicking cells"
   ]
  },
  {
   "cell_type": "code",
   "execution_count": null,
   "metadata": {},
   "outputs": [],
   "source": [
    "import qgrid\n",
    "qgrid.show_grid(table)"
   ]
  },
  {
   "cell_type": "markdown",
   "metadata": {},
   "source": [
    "## 11. Interrupt and restart kernel"
   ]
  },
  {
   "cell_type": "code",
   "execution_count": null,
   "metadata": {},
   "outputs": [],
   "source": [
    "import time\n",
    "while True:\n",
    "    print('Hello Summer school')\n",
    "    time.sleep(3)"
   ]
  },
  {
   "cell_type": "code",
   "execution_count": null,
   "metadata": {},
   "outputs": [],
   "source": [
    "print('Hello again summer school')"
   ]
  },
  {
   "cell_type": "markdown",
   "metadata": {},
   "source": [
    "## 12. Switching kernels or Python environments\n",
    "Switch between different kernels and examine how the Python environment changes. Here we examine where numpy is imported from."
   ]
  },
  {
   "cell_type": "code",
   "execution_count": null,
   "metadata": {},
   "outputs": [],
   "source": [
    "import sys\n",
    "print(sys.version)\n",
    "import numpy as np\n",
    "print(np.__path__)\n",
    "print(np.__file__)\n",
    "print(np.__version__)"
   ]
  },
  {
   "cell_type": "markdown",
   "metadata": {},
   "source": [
    "## 13. Connect to a running kernel \n",
    "You can connect to the same kernel running in another notebook to share namespace. "
   ]
  },
  {
   "cell_type": "markdown",
   "metadata": {},
   "source": [
    "## 14. Sharing notebooks\n",
    "\n",
    "As the notebook is readable (JSON) you can share your notebook file (.ipynb) directly. Other options:\n",
    "\n",
    "* Convert notebooks to HTML files using the File > Export Notebook > to HTML\n",
    "* Convert notebooks to PDF files Use the File > Export Notebook > to PDF \n",
    "* Upload your notebook to a GitHub repository and use the mybinder service to give people interactive access to your repository\n",
    "* Store your notebook somewhere online (e.g. in GitHub), open it using https://nbviewer.jupyter.org/ \n"
   ]
  },
  {
   "cell_type": "markdown",
   "metadata": {},
   "source": [
    "## 15. Troubleshooting\n",
    "On Piz Daint a jupyterhub log file is written to `$SCRATCH/jupyterhub_slurmspawner_<jobid>.log`\n"
   ]
  },
  {
   "cell_type": "markdown",
   "metadata": {},
   "source": [
    "## Now, practise with the JupyterLab interface!"
   ]
  },
  {
   "cell_type": "code",
   "execution_count": null,
   "metadata": {},
   "outputs": [],
   "source": []
  }
 ],
 "metadata": {
  "kernelspec": {
   "display_name": "Python 3",
   "language": "python",
   "name": "python3"
  },
  "language_info": {
   "codemirror_mode": {
    "name": "ipython",
    "version": 3
   },
   "file_extension": ".py",
   "mimetype": "text/x-python",
   "name": "python",
   "nbconvert_exporter": "python",
   "pygments_lexer": "ipython3",
   "version": "3.6.5"
  }
 },
 "nbformat": 4,
 "nbformat_minor": 2
}
