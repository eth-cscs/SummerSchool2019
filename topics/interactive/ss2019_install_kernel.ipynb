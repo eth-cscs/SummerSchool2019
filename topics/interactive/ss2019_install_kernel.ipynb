{
 "cells": [
  {
   "cell_type": "markdown",
   "metadata": {},
   "source": [
    "# Installing a custom kernel\n",
    "\n",
    "_Tim Robinson, CSCS_\n",
    "\n",
    "Here we will will install a custom kernel with a conda environment that contains (amongst other things), NVIDIA's RAPIDS (software libraries for data science and analytics pipelines on GPUs). \n",
    "\n",
    "We will use this custom kernel for some of the exercises this week.\n",
    "\n",
    "Local kernels reside in directories in `$HOME/.local/share/jupyter/kernels/`\n",
    "\n",
    "There are many differnet ways you could do the following 3 steps - you could open a terminal from JupyterLab and work in the shell; you could stay in the notebook and use the `!` operator in code cells (e.g. `!mkdir -p <dir>`); you could stay in the notebook and use magics like **%%bash** and **%%writefile**\n",
    "\n",
    "1. Create a directory `/users/<username>/.local/share/jupyter/kernels/miniconda-sumsch`. \n",
    "\n",
    "2. In the miniconda-sumsch directory create two files with the following contents:\n",
    "\n",
    "kernel.json:\n",
    "\n",
    "```\n",
    "{\n",
    " \"display_name\": \"miniconda-sumsch\",\n",
    " \"language\": \"python\",\n",
    " \"argv\": [\n",
    "  \"/users/<username>/.local/share/jupyter/kernels/miniconda-sumsch/mcss-launcher\",\n",
    "  \"-f\",\n",
    "  \"{connection_file}\"\n",
    " ]\n",
    "}\n",
    "```\n",
    "\n",
    "mcss-launcher:\n",
    "\n",
    "```\n",
    "#!/usr/bin/env bash \n",
    "export PYTHONPATH=''\n",
    "export PATH=/apps/daint/UES/6.0.UP04/sandboxes/sarafael/miniconda3-sumsch/bin:$PATH\n",
    "/apps/daint/UES/6.0.UP04/sandboxes/sarafael/miniconda3-sumsch/bin/python -m ipykernel_launcher $@\n",
    "```\n",
    "\n",
    "3. Make sure that the mcss-launcher file has execute permissions (`chmod +x ...`)\n",
    "\n",
    "Your new kernel should become available without having to refresh your notebook."
   ]
  },
  {
   "cell_type": "markdown",
   "metadata": {},
   "source": [
    "## Switch to the new environment\n",
    "\n",
    "First, using the default \"Python 3\" kernel (the kernel is displayed at the top right of your notebook), try to importing the module \"cudf\" (A GPU DataFrame library with a pandas-like API). This should fail as it is not available in the default kernel!:"
   ]
  },
  {
   "cell_type": "code",
   "execution_count": null,
   "metadata": {},
   "outputs": [],
   "source": [
    "import cudf\n",
    "df = cudf.DataFrame({'a':['hello', 'summerschool']})\n",
    "df"
   ]
  },
  {
   "cell_type": "markdown",
   "metadata": {},
   "source": [
    "Now switch to the \"miniconda-sumsch\" kernel, that you have just installed. Run the above cell again. "
   ]
  },
  {
   "cell_type": "markdown",
   "metadata": {},
   "source": [
    "## Try an example "
   ]
  },
  {
   "cell_type": "code",
   "execution_count": null,
   "metadata": {},
   "outputs": [],
   "source": [
    "import cudf, io, requests\n",
    "from io import StringIO\n",
    "\n",
    "url=\"https://github.com/plotly/datasets/raw/master/tips.csv\"\n",
    "content = requests.get(url).content.decode('utf-8')\n",
    "\n",
    "tips_df = cudf.read_csv(StringIO(content))\n",
    "tips_df['tip_percentage'] = tips_df['tip']/tips_df['total_bill']*100\n",
    "\n",
    "# display average tip by dining party size\n",
    "print(tips_df.groupby('size').tip_percentage.mean())"
   ]
  },
  {
   "cell_type": "markdown",
   "metadata": {},
   "source": [
    "## Further exercises (homework!)\n",
    "\n",
    "1. Which versions of numpy are in the default \"Python 3\" kernel and in the new \"miniconda-sumsch\" kernel?\n",
    "2. Add a graphical icon to your new \"miniconda-sumsch\" kernel by adding logo-64x64.png and logo-32x32.png files to its directory. Open a new launcher via `File -> New Launcher` (or the `+` button on the File Browser panel) to see the icon associated with your kernel. You might need to refresh your browser. \n",
    "\n",
    "\n"
   ]
  },
  {
   "cell_type": "code",
   "execution_count": null,
   "metadata": {},
   "outputs": [],
   "source": []
  }
 ],
 "metadata": {
  "kernelspec": {
   "display_name": "miniconda-sumsch",
   "language": "python",
   "name": "miniconda-sumsch"
  },
  "language_info": {
   "codemirror_mode": {
    "name": "ipython",
    "version": 3
   },
   "file_extension": ".py",
   "mimetype": "text/x-python",
   "name": "python",
   "nbconvert_exporter": "python",
   "pygments_lexer": "ipython3",
   "version": "3.6.8"
  }
 },
 "nbformat": 4,
 "nbformat_minor": 2
}
