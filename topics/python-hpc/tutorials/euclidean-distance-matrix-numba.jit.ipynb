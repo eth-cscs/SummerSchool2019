{
 "cells": [
  {
   "cell_type": "markdown",
   "metadata": {},
   "source": [
    "# Using `numba.jit` to speedup the computation of the Euclidean distance matrix \n",
    "\n",
    "In this notebook we implement a function to compute the Euclidean distance matrix using Numba's *just-in-time* compilation decorator. We compare it with the NumPy function we wrote before.\n",
    "\n",
    "We will use two Numba functions here: The decorator ` @numba.jit` and `numba.prange`."
   ]
  },
  {
   "cell_type": "code",
   "execution_count": 1,
   "metadata": {},
   "outputs": [],
   "source": [
    "import numpy as np\n",
    "import numba"
   ]
  },
  {
   "cell_type": "code",
   "execution_count": 2,
   "metadata": {},
   "outputs": [],
   "source": [
    "def euclidean_numpy(x, y):\n",
    "    \"\"\"Euclidean square distance matrix.\n",
    "    \n",
    "    Inputs:\n",
    "    x: (N,) numpy array\n",
    "    y: (N,) numpy array\n",
    "    \n",
    "    Ouput:\n",
    "    (N, N) Euclidean square distance matrix:\n",
    "    r_ij = x_ij^2 - y_ij^2\n",
    "    \"\"\"\n",
    "\n",
    "    x2 = np.einsum('ij,ij->i', x, x)[:, np.newaxis]\n",
    "    y2 = np.einsum('ij,ij->i', y, y)[:, np.newaxis].T\n",
    "\n",
    "    xy = np.dot(x, y.T)\n",
    "\n",
    "    return np.abs(x2 + y2 - 2. * xy)"
   ]
  },
  {
   "cell_type": "code",
   "execution_count": 3,
   "metadata": {},
   "outputs": [],
   "source": [
    "@numba.jit(nopython=True)\n",
    "def euclidean_numba1(x, y):\n",
    "    \"\"\"Euclidean square distance matrix using pure loops\n",
    "    and no NumPy operations\n",
    "    \"\"\"\n",
    "    num_samples, num_feat = x.shape\n",
    "    dist_matrix = np.zeros((num_samples, num_samples))\n",
    "    for i in range(num_samples):\n",
    "        for j in range(num_samples):\n",
    "            r = 0.0\n",
    "            for k in numba.prange(num_feat):\n",
    "                r += (x[i][k] - y[j][k])**2\n",
    "            dist_matrix[i][j] = r\n",
    "    return dist_matrix\n",
    "\n",
    "\n",
    "@numba.jit(nopython=True)\n",
    "def euclidean_numba2(x, y):\n",
    "    \"\"\"Euclidean square distance matrix using loops\n",
    "    and the `numpy.dot` operation\n",
    "    \"\"\"\n",
    "    num_samples, num_feat = x.shape\n",
    "    dist_matrix = np.zeros((num_samples, num_samples))\n",
    "    for i in range(num_samples):\n",
    "        for j in numba.prange(num_samples):\n",
    "            dist_matrix[i][j] = ((x[i] - y[j])**2).sum()\n",
    "    return dist_matrix"
   ]
  },
  {
   "cell_type": "code",
   "execution_count": 4,
   "metadata": {},
   "outputs": [
    {
     "name": "stdout",
     "output_type": "stream",
     "text": [
      "3.268496584496461e-13\n",
      "3.268496584496461e-13\n"
     ]
    }
   ],
   "source": [
    "# Let's check that they all give the same result\n",
    "a = 10. * np.random.random([100, 10])\n",
    "\n",
    "print(np.abs(euclidean_numpy(a, a) - euclidean_numba1(a, a)).max())\n",
    "print(np.abs(euclidean_numpy(a, a) - euclidean_numba2(a, a)).max())"
   ]
  },
  {
   "cell_type": "markdown",
   "metadata": {},
   "source": [
    "Our Numba implementations can be faster than the NumPy one for a list of small vectors. However, with larger vectors, the NumPy implementation is faster:"
   ]
  },
  {
   "cell_type": "code",
   "execution_count": 5,
   "metadata": {},
   "outputs": [
    {
     "name": "stdout",
     "output_type": "stream",
     "text": [
      "77.8 µs ± 153 ns per loop (mean ± std. dev. of 7 runs, 10000 loops each)\n",
      "29.2 µs ± 21.6 ns per loop (mean ± std. dev. of 7 runs, 10000 loops each)\n",
      "1.35 ms ± 5.58 µs per loop (mean ± std. dev. of 7 runs, 1000 loops each)\n"
     ]
    }
   ],
   "source": [
    "nsamples = 100\n",
    "nfeat = 3\n",
    "\n",
    "x = 10. * np.random.random([nsamples, nfeat])\n",
    "\n",
    "%timeit euclidean_numpy(x, x)\n",
    "%timeit euclidean_numba1(x, x)\n",
    "%timeit euclidean_numba2(x, x)"
   ]
  },
  {
   "cell_type": "code",
   "execution_count": 6,
   "metadata": {},
   "outputs": [
    {
     "name": "stdout",
     "output_type": "stream",
     "text": [
      "83.2 µs ± 212 ns per loop (mean ± std. dev. of 7 runs, 10000 loops each)\n",
      "390 µs ± 261 ns per loop (mean ± std. dev. of 7 runs, 1000 loops each)\n",
      "1.98 ms ± 1.83 µs per loop (mean ± std. dev. of 7 runs, 1000 loops each)\n"
     ]
    }
   ],
   "source": [
    "nsamples = 100\n",
    "nfeat = 50\n",
    "\n",
    "x = 10. * np.random.random([nsamples, nfeat])\n",
    "\n",
    "%timeit euclidean_numpy(x, x)\n",
    "%timeit euclidean_numba1(x, x)\n",
    "%timeit euclidean_numba2(x, x)"
   ]
  },
  {
   "cell_type": "markdown",
   "metadata": {},
   "source": [
    "In a more realistic case, our NumPy implementation is much faster:"
   ]
  },
  {
   "cell_type": "code",
   "execution_count": 7,
   "metadata": {},
   "outputs": [
    {
     "name": "stdout",
     "output_type": "stream",
     "text": [
      "490 ms ± 310 µs per loop (mean ± std. dev. of 7 runs, 1 loop each)\n",
      "1.11 s ± 676 µs per loop (mean ± std. dev. of 7 runs, 1 loop each)\n"
     ]
    }
   ],
   "source": [
    "nsamples = 5000\n",
    "nfeat = 50\n",
    "\n",
    "x = 10. * np.random.random([nsamples, nfeat])\n",
    "\n",
    "%timeit euclidean_numpy(x, x)\n",
    "%timeit euclidean_numba1(x, x)"
   ]
  },
  {
   "cell_type": "markdown",
   "metadata": {},
   "source": [
    "As homework, try the `numba.jit` decorator with the following implementations. Does it always work?\n",
    "\n",
    "\n",
    "```python\n",
    "def euclidean_loop0(x, y):\n",
    "    \"\"\"Euclidean square distance matrix\n",
    "    \n",
    "    Inputs:\n",
    "    x: (N,) numpy array\n",
    "    y: (N,) numpy array\n",
    "    \n",
    "    Ouput:\n",
    "    (N, N) Euclidean square distance matrix:\n",
    "    r_ij = x_ij^2 - y_ij^2\n",
    "    \"\"\"\n",
    "    \n",
    "    num_samples, num_feat = x.shape\n",
    "    dist_matrix = np.zeros((num_samples, num_samples))\n",
    "    for i in range(num_samples):\n",
    "        for j in range(num_samples):\n",
    "            r = 0.0\n",
    "            for k in range(num_feat):\n",
    "                r += (x[i][k] - y[j][k])**2\n",
    "            dist_matrix[i][j] = r\n",
    "    return dist_matrix\n",
    "\n",
    "\n",
    "def euclidean_loop1(x, y):\n",
    "    \"\"\"Euclidean square distance matrix\n",
    "    \n",
    "    Inputs:\n",
    "    x: (N,) numpy array\n",
    "    y: (N,) numpy array\n",
    "    \n",
    "    Ouput:\n",
    "    (N, N) Euclidean square distance matrix:\n",
    "    r_ij = x_ij^2 - y_ij^2\n",
    "    \"\"\"\n",
    "    \n",
    "    num_samples, num_feat = x.shape\n",
    "    dist_matrix = np.zeros((num_samples, num_samples))\n",
    "    for i in range(num_samples):\n",
    "        for j in range(num_samples):\n",
    "            dist_matrix[i][j] = ((x[i] - y[j])**2).sum()\n",
    "    return dist_matrix\n",
    "\n",
    "\n",
    "def euclidean_loop2(x, y):\n",
    "    \"\"\"Euclidean square distance matrix\n",
    "    \n",
    "    Inputs:\n",
    "    x: (N,) numpy array\n",
    "    y: (N,) numpy array\n",
    "    \n",
    "    Ouput:\n",
    "    (N, N) Euclidean square distance matrix:\n",
    "    r_ij = x_ij^2 - y_ij^2\n",
    "    \"\"\"\n",
    "    num_samples = x.shape[0]\n",
    "    dist_matrix = np.zeros((num_samples, num_samples))\n",
    "    for i, xi in enumerate(x):\n",
    "        for j, yj in enumerate(y):\n",
    "            diff = xi - yj\n",
    "            dist_matrix[i][j] = np.dot(diff, diff)\n",
    "    return dist_matrix\n",
    "\n",
    "\n",
    "def euclidean_loop3(x, y):\n",
    "    \"\"\"Euclidean square distance matrix\n",
    "    \n",
    "    Inputs:\n",
    "    x: (N,) numpy array\n",
    "    y: (N,) numpy array\n",
    "    \n",
    "    Ouput:\n",
    "    (N, N) Euclidean square distance matrix:\n",
    "    r_ij = x_ij^2 - y_ij^2\n",
    "    \"\"\"\n",
    "    num_samples = x.shape[0]\n",
    "    dist_matrix = [[np.dot(xi - yj, xi - yj) for xi in x] for yj in y]\n",
    "\n",
    "    return np.array(dist_matrix)\n",
    "```"
   ]
  }
 ],
 "metadata": {
  "kernelspec": {
   "display_name": "Python 3",
   "language": "python",
   "name": "python3"
  },
  "language_info": {
   "codemirror_mode": {
    "name": "ipython",
    "version": 3
   },
   "file_extension": ".py",
   "mimetype": "text/x-python",
   "name": "python",
   "nbconvert_exporter": "python",
   "pygments_lexer": "ipython3",
   "version": "3.6.2"
  }
 },
 "nbformat": 4,
 "nbformat_minor": 2
}
