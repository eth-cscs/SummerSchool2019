{
 "cells": [
  {
   "cell_type": "markdown",
   "metadata": {},
   "source": [
    "# Pyhon Binding with F2PY for a Euclidean Distance Matrix written in Fortran90\n",
    "\n",
    "In this notebook we implement a Euclidean distance matrix subroutine in fortran! Thanks to F2PY, we can easily import it in numpy."
   ]
  },
  {
   "cell_type": "code",
   "execution_count": 1,
   "metadata": {},
   "outputs": [],
   "source": [
    "import numpy as np"
   ]
  },
  {
   "cell_type": "code",
   "execution_count": 2,
   "metadata": {},
   "outputs": [],
   "source": [
    "# Let's have here our numpy implementation of the cityblock distance matrix\n",
    "# for comparison\n",
    "def euclidean_numpy(x, y):\n",
    "    \"\"\"Euclidean square distance matrix.\n",
    "    \n",
    "    Inputs:\n",
    "    x: (N,) numpy array\n",
    "    y: (N,) numpy array\n",
    "    \n",
    "    Ouput:\n",
    "    (N, N) Euclidean square distance matrix:\n",
    "    r_ij = x_ij^2 - y_ij^2\n",
    "    \"\"\"\n",
    "\n",
    "    x2 = np.einsum('ij,ij->i', x, x)[:, np.newaxis]\n",
    "    y2 = np.einsum('ij,ij->i', y, y)[:, np.newaxis].T\n",
    "\n",
    "    xy = np.dot(x, y.T)\n",
    "\n",
    "    return np.abs(x2 + y2 - 2. * xy)"
   ]
  },
  {
   "cell_type": "markdown",
   "metadata": {},
   "source": [
    "The fortran implementation is under `./distance-f90`. There are the files `cityblock.f90`, `euclidean.f90`, which are the source, and `setup.py`, which can be used to compile the code into `.so` files that are importable in python.\n",
    "\n",
    "The following command can be used to build the `.so` files\n",
    "```bash\n",
    "python setup.py build_ext -i\n",
    "```\n",
    "This will produce the folder `metrics` that contains `cbdm.cpython-36m-x86_64-linux-gnu.so` and `edm.cpython-36m-x86_64-linux-gnu.so`. The `setup.py` files has some extra lines to copy the folder `metrics` with the compiled libraries to the same level directory where the notebooks are. This is not really part of the setup. In general, the location of the installed modules is controled by command line options like `--prefix`:\n",
    "```bash\n",
    "python setup.py install --prefix /some/dir\n",
    "```\n",
    "\n",
    "Building with `setup.py` produces the command\n",
    "```bash\n",
    "f2py -c euclidean.f90 -m edm --f90flags='-fopenmp -O3' -lgomp\n",
    "```\n",
    "The `*so` files can be compiled with that command as well. Using the `setup.py` file is not mandatory.\n",
    "\n",
    "We can run those commands on a terminal or within the notebook using the following cell (uncomment it first):"
   ]
  },
  {
   "cell_type": "code",
   "execution_count": 3,
   "metadata": {},
   "outputs": [],
   "source": [
    "# %%bash\n",
    "# cd distance-f90\n",
    "# python setup.py build_ext -i"
   ]
  },
  {
   "cell_type": "markdown",
   "metadata": {},
   "source": [
    "The fortran subroutine doesn't return an array with the distance matrix. Instead it needs an array passed as argument in which the matrix will be written. To make it in the same fashion we did the other functions, we use the following wrapper:"
   ]
  },
  {
   "cell_type": "code",
   "execution_count": 4,
   "metadata": {},
   "outputs": [],
   "source": [
    "from metrics.edm import euclidean_distance_matrix\n",
    "\n",
    "\n",
    "def euclidean_fortran(x, y):\n",
    "    \"\"\"Wraper for Euclidean square distance matrix\n",
    "    implemented in fortran.\n",
    "    \n",
    "    Inputs:\n",
    "    x: (N,) numpy array\n",
    "    y: (N,) numpy array\n",
    "    \n",
    "    Ouput:\n",
    "    (N, N) Euclidean square distance matrix:\n",
    "    r_ij = x_ij^2 - y_ij^2\n",
    "    \"\"\"\n",
    "    nsamples, nfeat = x.shape\n",
    "    \n",
    "    dist_matrix = np.empty([nsamples, nsamples], order='F')\n",
    "    \n",
    "    euclidean_distance_matrix(x.T, y.T, nsamples, nfeat, dist_matrix)\n",
    "\n",
    "    return dist_matrix"
   ]
  },
  {
   "cell_type": "code",
   "execution_count": 5,
   "metadata": {},
   "outputs": [
    {
     "data": {
      "text/plain": [
       "3.524291969370097e-12"
      ]
     },
     "execution_count": 5,
     "metadata": {},
     "output_type": "execute_result"
    }
   ],
   "source": [
    "nsamples = 5000\n",
    "nfeat = 50\n",
    "\n",
    "x = 10. * np.random.random([nsamples, nfeat])\n",
    "\n",
    "np.abs(euclidean_fortran(x, x) - euclidean_numpy(x, x)).max()"
   ]
  },
  {
   "cell_type": "code",
   "execution_count": 6,
   "metadata": {},
   "outputs": [
    {
     "name": "stdout",
     "output_type": "stream",
     "text": [
      "491 ms ± 310 µs per loop (mean ± std. dev. of 7 runs, 1 loop each)\n",
      "151 ms ± 1.22 ms per loop (mean ± std. dev. of 7 runs, 10 loops each)\n"
     ]
    }
   ],
   "source": [
    "%timeit euclidean_numpy(x, x)\n",
    "%timeit euclidean_fortran(x, x)"
   ]
  },
  {
   "cell_type": "markdown",
   "metadata": {},
   "source": [
    "## Conclusions\n",
    "1. Implementing functions in fortran and binding them to python with F2PY might result in significant speedups.\n",
    "2. Move only small compute-intensive bits of a python programm to Fortran90. This will result in cleaner code.\n",
    "3. Keep in mind the types and order of the multidimensional arrays passed to fortran functions."
   ]
  }
 ],
 "metadata": {
  "kernelspec": {
   "display_name": "Python 3",
   "language": "python",
   "name": "python3"
  },
  "language_info": {
   "codemirror_mode": {
    "name": "ipython",
    "version": 3
   },
   "file_extension": ".py",
   "mimetype": "text/x-python",
   "name": "python",
   "nbconvert_exporter": "python",
   "pygments_lexer": "ipython3",
   "version": "3.6.2"
  }
 },
 "nbformat": 4,
 "nbformat_minor": 2
}
