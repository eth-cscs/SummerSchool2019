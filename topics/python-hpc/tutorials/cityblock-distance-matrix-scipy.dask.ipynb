{
 "cells": [
  {
   "cell_type": "markdown",
   "metadata": {},
   "source": [
    "# Multithreaded Cityblock distance matrix function with SciPy and Dask's delayed execution\n",
    "\n",
    "In this notebook we implement a function to compute the cityblock distance matrix using `scipy.spatial.distance.cdist`. Althought this function is quite fast, it uses a single thread. In cases like this, it may be convenient to implement a multithreaded version of the function by parallelicing the execution over chunks of data. We are going to use `dask.delayed` to do that."
   ]
  },
  {
   "cell_type": "code",
   "execution_count": 1,
   "metadata": {},
   "outputs": [],
   "source": [
    "import numpy as np\n",
    "from scipy.spatial.distance import cdist\n",
    "from dask import compute, delayed"
   ]
  },
  {
   "cell_type": "code",
   "execution_count": 3,
   "metadata": {},
   "outputs": [],
   "source": [
    "nsamples = 12000\n",
    "nfeat = 50\n",
    "\n",
    "x = 10. * np.random.random([nsamples, nfeat])"
   ]
  },
  {
   "cell_type": "markdown",
   "metadata": {},
   "source": [
    "Let's time the `cdist` function and look the `top` command."
   ]
  },
  {
   "cell_type": "code",
   "execution_count": 4,
   "metadata": {},
   "outputs": [
    {
     "name": "stdout",
     "output_type": "stream",
     "text": [
      "3.58 s ± 28.4 ms per loop (mean ± std. dev. of 7 runs, 1 loop each)\n"
     ]
    }
   ],
   "source": [
    "# observe here that the funcion `cdist` used to get the cityblock distance\n",
    "# is not multithreaded\n",
    "\n",
    "%timeit cdist(x, x, 'cityblock')"
   ]
  },
  {
   "cell_type": "markdown",
   "metadata": {},
   "source": [
    "With the `top` command we see that `cdist` runs in a single thread. In such cases it could be quite simple write a distributed version of the function. We can do this very easily with `dask.delayed`!"
   ]
  },
  {
   "cell_type": "markdown",
   "metadata": {},
   "source": [
    "## Dask's async delayed execution\n",
    "A simple distributed version of `cdist` can be done as the following:\n",
    "  * Split the array of vectors into chunks. We can use `np.split(x, num_chunks)`\n",
    "  * Compute partial cityblock distance matrices of the complete array with respect to each of the chunks\n",
    "  * Concatenate the resulting list into a single cityblock distance matrix.\n",
    "\n",
    "Note that concatenation is not a fast function, so probably we will have to continue improving our function."
   ]
  },
  {
   "cell_type": "code",
   "execution_count": 5,
   "metadata": {},
   "outputs": [],
   "source": [
    "# define the list of operations to be performed asynchronously\n",
    "chunks = 12\n",
    "values = [delayed(cdist)(x, xi, 'cityblock') for xi in np.split(x, chunks)]\n",
    "\n",
    "# at this point nothing is executed"
   ]
  },
  {
   "cell_type": "code",
   "execution_count": 6,
   "metadata": {},
   "outputs": [],
   "source": [
    "# execute the operations on the list `values`\n",
    "_cbdm_dask = compute(*values, scheduler='threads')"
   ]
  },
  {
   "cell_type": "code",
   "execution_count": 7,
   "metadata": {},
   "outputs": [],
   "source": [
    "# concatenate the list `_cbdm_dask` into a single array\n",
    "cbdm_dask = np.concatenate(_cbdm_dask, axis=1)"
   ]
  },
  {
   "cell_type": "markdown",
   "metadata": {},
   "source": [
    "Let's time the compute step and go to the command `top`. Now you can see that computation is executed in parallel resulting in a faster execution time."
   ]
  },
  {
   "cell_type": "code",
   "execution_count": 8,
   "metadata": {},
   "outputs": [
    {
     "name": "stdout",
     "output_type": "stream",
     "text": [
      "407 ms ± 10.7 ms per loop (mean ± std. dev. of 7 runs, 1 loop each)\n"
     ]
    }
   ],
   "source": [
    "%timeit compute(*values, scheduler='threads')"
   ]
  },
  {
   "cell_type": "code",
   "execution_count": 9,
   "metadata": {},
   "outputs": [
    {
     "data": {
      "text/plain": [
       "0.0"
      ]
     },
     "execution_count": 9,
     "metadata": {},
     "output_type": "execute_result"
    }
   ],
   "source": [
    "# check that the resulting matrices are the same\n",
    "cbdm_scipy = cdist(x, x, 'cityblock')\n",
    "np.abs(cbdm_dask - cbdm_scipy).max()"
   ]
  },
  {
   "cell_type": "markdown",
   "metadata": {},
   "source": [
    "A problem with this solution, as mentioned above, is that `np.concatenate` is not  a fast operation."
   ]
  },
  {
   "cell_type": "code",
   "execution_count": 10,
   "metadata": {},
   "outputs": [
    {
     "name": "stdout",
     "output_type": "stream",
     "text": [
      "735 ms ± 2.89 ms per loop (mean ± std. dev. of 7 runs, 1 loop each)\n"
     ]
    }
   ],
   "source": [
    "%timeit np.concatenate(_cbdm_dask, axis=1)"
   ]
  },
  {
   "cell_type": "markdown",
   "metadata": {},
   "source": [
    "Let's implement the whole thing as a single function:"
   ]
  },
  {
   "cell_type": "code",
   "execution_count": 11,
   "metadata": {},
   "outputs": [],
   "source": [
    "def cityblock_dask_concat(x, y, chunks):\n",
    "    \"\"\"Implementation using array concatenation\"\"\"\n",
    "    values = [delayed(cdist)(x, xi, 'cityblock')\n",
    "              for xi in np.split(x, chunks)]\n",
    "    return np.concatenate(compute(*values, scheduler='threads'),\n",
    "                          axis=1)\n",
    "\n",
    "\n",
    "def cityblock_dask_empty(x, y, chunks):\n",
    "    \"\"\"Implementation filling in an empty array\"\"\"\n",
    "    stride = x.shape[0]//chunks\n",
    "    values = [delayed(cdist)(x, yi, 'cityblock')\n",
    "              for yi in np.split(y, chunks)]\n",
    "    cbdm_list = compute(*values, scheduler='threads')\n",
    "    cbdm = np.empty((x.shape[0], y.shape[0]))\n",
    "    for i, ci in enumerate(cbdm_list):\n",
    "        cbdm[:,i * stride:i * stride + stride] = ci\n",
    "        \n",
    "    return cbdm"
   ]
  },
  {
   "cell_type": "code",
   "execution_count": 12,
   "metadata": {},
   "outputs": [
    {
     "name": "stdout",
     "output_type": "stream",
     "text": [
      "0.0\n",
      "0.0\n"
     ]
    }
   ],
   "source": [
    "print(np.abs(cityblock_dask_concat(x, x, chunks) - cdist(x, x, 'cityblock')).max())\n",
    "print(np.abs(cityblock_dask_empty(x, x, chunks) - cdist(x, x, 'cityblock')).max())"
   ]
  },
  {
   "cell_type": "markdown",
   "metadata": {},
   "source": [
    "# Conclusions\n",
    "The main points to take home from this notebook are:\n",
    "  * Dask's delayed execution can be used to make distributed version of functions that run on a single thread.\n",
    "  * Ditributed version of functions that use OpenMP threads might be slower than the original since the CPU threads need be shared between the concurrent executions of the function."
   ]
  }
 ],
 "metadata": {
  "kernelspec": {
   "display_name": "Python 3",
   "language": "python",
   "name": "python3"
  },
  "language_info": {
   "codemirror_mode": {
    "name": "ipython",
    "version": 3
   },
   "file_extension": ".py",
   "mimetype": "text/x-python",
   "name": "python",
   "nbconvert_exporter": "python",
   "pygments_lexer": "ipython3",
   "version": "3.6.2"
  }
 },
 "nbformat": 4,
 "nbformat_minor": 2
}
