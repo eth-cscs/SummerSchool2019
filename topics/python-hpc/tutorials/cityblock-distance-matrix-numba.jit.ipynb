{
 "cells": [
  {
   "cell_type": "markdown",
   "metadata": {},
   "source": [
    "# Using `numba.jit` to speedup the computation of the Cityblock distance matrix \n",
    "\n",
    "\n",
    "In this notebook we implement a function to compute the Cityblock distance matrix using Numba's *just-it-time* compilation decorator. We compare it's performance to that of corresponding non-decorated NumPy function.\n",
    "\n",
    "We will use two Numba functions here. The decorator ` @numba.jit` and `numba.prange`."
   ]
  },
  {
   "cell_type": "code",
   "execution_count": 1,
   "metadata": {},
   "outputs": [],
   "source": [
    "import numpy as np\n",
    "import numba"
   ]
  },
  {
   "cell_type": "code",
   "execution_count": 2,
   "metadata": {},
   "outputs": [],
   "source": [
    "def cityblock_python(x, y):\n",
    "    \"\"\"Cityblock distance matrix.\"\"\"\n",
    "\n",
    "    num_samples, num_feat = x.shape\n",
    "    dist_matrix = np.empty((num_samples, num_samples))\n",
    "    for i in range(num_samples):\n",
    "        for j in range(num_samples):\n",
    "            r = 0.0\n",
    "            for k in range(num_feat):\n",
    "                r += np.abs(x[i][k] - y[j][k])\n",
    "            dist_matrix[i][j] = r\n",
    "    return dist_matrix\n",
    "\n",
    "\n",
    "@numba.jit(nopython=True)\n",
    "def cityblock_numba1(x, y):\n",
    "    \"\"\"Cityblock distance matrix.\"\"\"\n",
    "\n",
    "    num_samples, num_feat = x.shape\n",
    "    dist_matrix = np.empty((num_samples, num_samples))\n",
    "    for i in range(num_samples):\n",
    "        for j in range(num_samples):\n",
    "            r = 0.0\n",
    "            for k in numba.prange(num_feat):\n",
    "                r += np.abs(x[i][k] - y[j][k])\n",
    "            dist_matrix[i][j] = r\n",
    "    return dist_matrix\n",
    "\n",
    "\n",
    "@numba.jit(nopython=True)\n",
    "def cityblock_numba2(x, y):\n",
    "    \"\"\"Cityblock distance matrix using `numpy.linalg.norm`\n",
    "    operation.\n",
    "    \"\"\"\n",
    "    num_samples, num_feat = x.shape\n",
    "    dist_matrix = np.empty((num_samples, num_samples))\n",
    "    for i in range(num_samples):\n",
    "        for j in numba.prange(num_samples):\n",
    "            dist_matrix[i][j] = np.linalg.norm(x[i] - y[j], 1)\n",
    "    return dist_matrix"
   ]
  },
  {
   "cell_type": "code",
   "execution_count": 3,
   "metadata": {},
   "outputs": [
    {
     "name": "stdout",
     "output_type": "stream",
     "text": [
      "0.0\n",
      "0.0\n"
     ]
    }
   ],
   "source": [
    "# Let's check that they all give the same result\n",
    "a = 10. * np.random.random([100, 10])\n",
    "\n",
    "print(np.abs(cityblock_python(a, a) - cityblock_numba1(a, a)).max())\n",
    "print(np.abs(cityblock_python(a, a) - cityblock_numba2(a, a)).max())"
   ]
  },
  {
   "cell_type": "code",
   "execution_count": 4,
   "metadata": {},
   "outputs": [
    {
     "name": "stdout",
     "output_type": "stream",
     "text": [
      "1.43 s ± 12.5 ms per loop (mean ± std. dev. of 7 runs, 1 loop each)\n",
      "656 µs ± 244 ns per loop (mean ± std. dev. of 7 runs, 1000 loops each)\n",
      "6.39 ms ± 3.65 µs per loop (mean ± std. dev. of 7 runs, 100 loops each)\n"
     ]
    }
   ],
   "source": [
    "nsamples = 200\n",
    "nfeat = 25\n",
    "\n",
    "x = 10. * np.random.random([nsamples, nfeat])\n",
    "\n",
    "%timeit cityblock_python(x,x)\n",
    "%timeit cityblock_numba1(x, x)\n",
    "%timeit cityblock_numba2(x, x)"
   ]
  },
  {
   "cell_type": "markdown",
   "metadata": {},
   "source": [
    "## Conclusions\n",
    "\n",
    "In cases where there's no possibility to do an implementation with NumPy vectorized operations, it's worth to give a try to Numba. It offers a significant improvement in performance compared to pure python, specially in situations where loops are unavoidable.\n",
    "\n",
    "As we have seen, the speedup doesn't come completelly for free: the way the python function is implmented is crucial to obtain a good performance from Numba. Consider different implementations with and without NumPy operations and measure their execution time."
   ]
  }
 ],
 "metadata": {
  "kernelspec": {
   "display_name": "Python 3",
   "language": "python",
   "name": "python3"
  },
  "language_info": {
   "codemirror_mode": {
    "name": "ipython",
    "version": 3
   },
   "file_extension": ".py",
   "mimetype": "text/x-python",
   "name": "python",
   "nbconvert_exporter": "python",
   "pygments_lexer": "ipython3",
   "version": "3.6.2"
  }
 },
 "nbformat": 4,
 "nbformat_minor": 2
}
