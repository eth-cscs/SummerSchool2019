{
 "cells": [
  {
   "cell_type": "markdown",
   "metadata": {},
   "source": [
    "# A first glimpse into Neural Networks: Multi-Layer Perceptron (MLP)\n",
    "\n",
    "In this first notebook, you will learn the basics of MLP with Keras. Before we can jump into Neural Networks, we need to take a look at the dataset, visualize it, analyze it, and prepare it so that it can be used to train a simple neural network.\n",
    "\n",
    "## 1. Setting up the environment\n",
    "The first code block simply imports packages we need to obtain, preprocess, and analyze the data. We import\n",
    "\n",
    "- [NumPy](https://numpy.org/): standard numerical library, used for linear algebra, vector, matrix, and tensor manipulation.\n",
    "- [Matplotlib](https://matplotlib.org/): 2D plotting library with a MATLAB-like interface.\n",
    "- [scikit-learn](https://scikit-learn.org/stable/): Machine Learning library, for standard ML methods such as regressions, Support Vector Machines, Random Forests, ..."
   ]
  },
  {
   "cell_type": "code",
   "execution_count": 1,
   "metadata": {},
   "outputs": [],
   "source": [
    "import numpy as np\n",
    "import matplotlib.pyplot as plt\n",
    "plt.style.use('ggplot')\n",
    "%matplotlib inline\n",
    "\n",
    "from sklearn.datasets import load_iris\n",
    "from sklearn.model_selection import train_test_split\n",
    "from sklearn.preprocessing import OneHotEncoder, StandardScaler\n",
    "\n",
    "# In order to ignore FutureWarning\n",
    "import warnings\n",
    "warnings.simplefilter(action='ignore', category=FutureWarning)"
   ]
  },
  {
   "cell_type": "markdown",
   "metadata": {},
   "source": [
    "## 2. The data: Iris dataset\n",
    "From [Wikipedia](https://en.wikipedia.org/wiki/Iris_flower_data_set):\n",
    "\n",
    ">The Iris flower data set or Fisher's Iris data set is a multivariate data set introduced by the British statistician and biologist Ronald Fisher in his 1936 paper The use of multiple measurements in taxonomic problems as an example of linear discriminant analysis. It is sometimes called Anderson's Iris data set because Edgar Anderson collected the data to quantify the morphologic variation of Iris flowers of three related species. Two of the three species were collected in the Gaspé Peninsula \"all from the same pasture, and picked on the same day and measured at the same time by the same person with the same apparatus\".\n",
    "\n",
    ">The data set consists of 50 samples from each of three species of Iris (Iris setosa, Iris virginica and Iris versicolor). Four features were measured from each sample: the length and the width of the sepals and petals, in centimeters. Based on the combination of these four features, Fisher developed a linear discriminant model to distinguish the species from each other.\n",
    "\n",
    "We will load the iris dataset from scikit-learn (we imported the function in the code block above). The dataset is organized like a [Python dictionary](https://docs.python.org/2/tutorial/datastructures.html#dictionaries), you can access the different features, if you know what they are called. Let us explore the dataset: we first load it, then print out the dictionary keys. Eventually, we print out the description, which we know is stored as `DESCR`. Some numbers in the description will be useful below, when we will check that the data is correct."
   ]
  },
  {
   "cell_type": "code",
   "execution_count": 2,
   "metadata": {},
   "outputs": [
    {
     "name": "stdout",
     "output_type": "stream",
     "text": [
      "dict_keys(['data', 'target', 'target_names', 'DESCR', 'feature_names', 'filename'])\n",
      ".. _iris_dataset:\n",
      "\n",
      "Iris plants dataset\n",
      "--------------------\n",
      "\n",
      "**Data Set Characteristics:**\n",
      "\n",
      "    :Number of Instances: 150 (50 in each of three classes)\n",
      "    :Number of Attributes: 4 numeric, predictive attributes and the class\n",
      "    :Attribute Information:\n",
      "        - sepal length in cm\n",
      "        - sepal width in cm\n",
      "        - petal length in cm\n",
      "        - petal width in cm\n",
      "        - class:\n",
      "                - Iris-Setosa\n",
      "                - Iris-Versicolour\n",
      "                - Iris-Virginica\n",
      "                \n",
      "    :Summary Statistics:\n",
      "\n",
      "    ============== ==== ==== ======= ===== ====================\n",
      "                    Min  Max   Mean    SD   Class Correlation\n",
      "    ============== ==== ==== ======= ===== ====================\n",
      "    sepal length:   4.3  7.9   5.84   0.83    0.7826\n",
      "    sepal width:    2.0  4.4   3.05   0.43   -0.4194\n",
      "    petal length:   1.0  6.9   3.76   1.76    0.9490  (high!)\n",
      "    petal width:    0.1  2.5   1.20   0.76    0.9565  (high!)\n",
      "    ============== ==== ==== ======= ===== ====================\n",
      "\n",
      "    :Missing Attribute Values: None\n",
      "    :Class Distribution: 33.3% for each of 3 classes.\n",
      "    :Creator: R.A. Fisher\n",
      "    :Donor: Michael Marshall (MARSHALL%PLU@io.arc.nasa.gov)\n",
      "    :Date: July, 1988\n",
      "\n",
      "The famous Iris database, first used by Sir R.A. Fisher. The dataset is taken\n",
      "from Fisher's paper. Note that it's the same as in R, but not as in the UCI\n",
      "Machine Learning Repository, which has two wrong data points.\n",
      "\n",
      "This is perhaps the best known database to be found in the\n",
      "pattern recognition literature.  Fisher's paper is a classic in the field and\n",
      "is referenced frequently to this day.  (See Duda & Hart, for example.)  The\n",
      "data set contains 3 classes of 50 instances each, where each class refers to a\n",
      "type of iris plant.  One class is linearly separable from the other 2; the\n",
      "latter are NOT linearly separable from each other.\n",
      "\n",
      ".. topic:: References\n",
      "\n",
      "   - Fisher, R.A. \"The use of multiple measurements in taxonomic problems\"\n",
      "     Annual Eugenics, 7, Part II, 179-188 (1936); also in \"Contributions to\n",
      "     Mathematical Statistics\" (John Wiley, NY, 1950).\n",
      "   - Duda, R.O., & Hart, P.E. (1973) Pattern Classification and Scene Analysis.\n",
      "     (Q327.D83) John Wiley & Sons.  ISBN 0-471-22361-1.  See page 218.\n",
      "   - Dasarathy, B.V. (1980) \"Nosing Around the Neighborhood: A New System\n",
      "     Structure and Classification Rule for Recognition in Partially Exposed\n",
      "     Environments\".  IEEE Transactions on Pattern Analysis and Machine\n",
      "     Intelligence, Vol. PAMI-2, No. 1, 67-71.\n",
      "   - Gates, G.W. (1972) \"The Reduced Nearest Neighbor Rule\".  IEEE Transactions\n",
      "     on Information Theory, May 1972, 431-433.\n",
      "   - See also: 1988 MLC Proceedings, 54-64.  Cheeseman et al\"s AUTOCLASS II\n",
      "     conceptual clustering system finds 3 classes in the data.\n",
      "   - Many, many more ...\n"
     ]
    }
   ],
   "source": [
    "iris = load_iris()\n",
    "print(iris.keys())\n",
    "\n",
    "# Print the dataset description:\n",
    "print(iris['DESCR'])"
   ]
  },
  {
   "cell_type": "markdown",
   "metadata": {},
   "source": [
    "Now, we need to extract the information we need, that is, assign parts of the dataset to our variables. Why doing so? At least for two reasons:\n",
    "\n",
    "- Simplicity: we do not want to always reference a field of the `iris` variable.\n",
    "- Consistency: we will often re-use the same names in our DL pipelines, but in the original datasets, different namings could have been chosen.\n",
    "\n",
    "Thus, we want to have in a variable called `X` the real input *data* we are going to classify, in this case, for each sample, we will have the four attributes listed in the above description (`X` will thus be a matrix, every sample will be represented by a line, every column will represent a feature). `y` will always represent our ground truth (at least for labeled data): it is a vector assigning the correct label index to each sample.\n",
    "\n",
    "We will also use two variables `names` and `feature_names`, to store the class name corresponding to the label indices used in `y` and the feature name corresponding to each column of `X`, respectively.\n",
    "\n",
    "You only have to fill the matrix `X` and the vector `y`, in the next code block."
   ]
  },
  {
   "cell_type": "code",
   "execution_count": 3,
   "metadata": {},
   "outputs": [],
   "source": [
    "X = iris['data']\n",
    "y = iris['target']\n",
    "names = iris['target_names']\n",
    "feature_names = iris['feature_names']"
   ]
  },
  {
   "cell_type": "markdown",
   "metadata": {},
   "source": [
    "As you remember from the lecture, our NN will need a so-called one-hot-encoded vector representing the label of each sample. A one-hot-encoded vector is a vector where all components are `0` except for the component corresponding to the correct sample's label, which is set to `1`. There are many ways to turn `y` into the one-hot-encoded matrix `Y` (where each line will represent the one-hot-encoding of a sample's label. In the next code block, we use an object of type `OneHotEncoder` from `sklearn.preprocessing` which we imported above."
   ]
  },
  {
   "cell_type": "code",
   "execution_count": 4,
   "metadata": {},
   "outputs": [],
   "source": [
    "# One hot encoding\n",
    "enc = OneHotEncoder()\n",
    "Y = enc.fit_transform(y[:, np.newaxis]).toarray()"
   ]
  },
  {
   "cell_type": "markdown",
   "metadata": {},
   "source": [
    "Time for a sanity check! We have two matrices, `X` and `Y`, can you predict what their shapes will be like? (hint: read the above description again if you can't!) \n",
    "\n",
    "We will call `n_features` the number of features measured for each sample, `n_samples` the number of samples, and `n_classes` the number of classes represented in our dataset. You should extract these numbers from `X` and `Y` (every NumPy array has an attribute called `shape`...) and check that they are in agreement with your prediction. Then, you should also make sure that `X` and `Y` have one dimension which is the same... can you guess which one, and introduce a check?"
   ]
  },
  {
   "cell_type": "code",
   "execution_count": 6,
   "metadata": {},
   "outputs": [
    {
     "name": "stdout",
     "output_type": "stream",
     "text": [
      "Number of features: 4\n",
      "Number of classes: 3\n",
      "Number of samples: 150\n"
     ]
    }
   ],
   "source": [
    "# TODO: assign the correct values to the next three variables!\n",
    "n_features = X.shape[1]\n",
    "n_classes = Y.shape[1]\n",
    "n_samples = X.shape[0]\n",
    "\n",
    "print(\"Number of features: {}\".format(n_features))\n",
    "print(\"Number of classes: {}\".format(n_classes))\n",
    "print(\"Number of samples: {}\".format(n_samples))\n",
    "\n",
    "# TODO: insert a check to ensure X and Y refer to the same number of samples\n",
    "#       you can use a soft check (printing a warning if something is wrong)\n",
    "#       or a hard check (using an assert of raising an error).\n",
    "assert(n_samples == Y.shape[0])"
   ]
  },
  {
   "cell_type": "markdown",
   "metadata": {},
   "source": [
    "## 3. Pre-processing the data\n",
    "We now have some data, but NNs are a little picky about numbers. To have good convergence, all data should (at least) be scaled to have zero mean, and a variance of `1`. Fortunately, an object of type `StandardScaler` will make things easy for us.\n",
    "\n",
    "We also want to split our (small) dataset equally into training and test portions. We use the built-in function `train_test_split` and are ready to visualize the data!"
   ]
  },
  {
   "cell_type": "code",
   "execution_count": 7,
   "metadata": {},
   "outputs": [],
   "source": [
    "# Scale data to have mean 0 and variance 1 \n",
    "# which is importance for convergence of the neural network\n",
    "scaler = StandardScaler()\n",
    "X_scaled = scaler.fit_transform(X)\n",
    "\n",
    "# Split the data set into training and testing\n",
    "X_train, X_test, Y_train, Y_test = train_test_split(X_scaled, Y, test_size=0.5, random_state=2)"
   ]
  },
  {
   "cell_type": "markdown",
   "metadata": {},
   "source": [
    "## 4. Visualizing the data\n",
    "The next code block uses `matplotlib` to give a visual feedback about the dataset. The desired result is simple: two plots, in the first one, input feature `1` is plotted agains input feature `0`, in the second one, input feature `3` is plotted agains input feature `2`.\n",
    "\n",
    "The code takes care of separating the different classes when plotting, all you have to do is to fill in three annotations for each plot:\n",
    "\n",
    "- class name as label of each set of points (replace \"set 0\", \"set 1\", and \"set 2\")\n",
    "- feature name for x-axis label\n",
    "- feature name for y-axis label"
   ]
  },
  {
   "cell_type": "code",
   "execution_count": 8,
   "metadata": {},
   "outputs": [
    {
     "data": {
      "image/png": "[encoded data removed]",
      "text/plain": [
       "<Figure size 1152x432 with 2 Axes>"
      ]
     },
     "metadata": {},
     "output_type": "display_data"
    }
   ],
   "source": [
    "# Visualize the data sets\n",
    "plt.figure(figsize=(16, 6))\n",
    "plt.subplot(1, 2, 1)\n",
    "for target, target_name in enumerate(names):\n",
    "    X_plot = X[y == target]\n",
    "    #TODO replace this label to match the class names!\n",
    "    label_string = target_name # \"set_{}\".format(target)\n",
    "    plt.plot(X_plot[:, 0], X_plot[:, 1], linestyle='none', marker='o', label=label_string)\n",
    "    \n",
    "#TODO replace this label with the correct x-axis feature name!\n",
    "plt.xlabel(feature_names[0])\n",
    "\n",
    "#TODO replace this label with the correct y-axis feature name!\n",
    "plt.ylabel(feature_names[1])\n",
    "\n",
    "plt.axis('equal')\n",
    "plt.legend();\n",
    "\n",
    "plt.subplot(1, 2, 2)\n",
    "for target, target_name in enumerate(names):\n",
    "    X_plot = X[y == target]\n",
    "    label_sting = target_name # \"set_{}\".format(target)\n",
    "    plt.plot(X_plot[:, 2], X_plot[:, 3], linestyle='none', marker='o', label=target_name)\n",
    "    \n",
    "#TODO replace this label with the correct x-axis feature name!\n",
    "plt.xlabel(feature_names[2])\n",
    "#TODO replace this label with the correct y-axis feature name!\n",
    "plt.ylabel(feature_names[3])\n",
    "plt.axis('equal')\n",
    "plt.legend();\n"
   ]
  },
  {
   "cell_type": "markdown",
   "metadata": {},
   "source": [
    "## 5. Applying Neural Networks to the problem\n",
    "\n",
    "But... weren't we supposed to try out neural networks? Of course! But with the right toolkits, neural networks are easy to set up and run, once you have the data! We will now start with a simple (very simple) 2-layer perceptron!\n",
    "\n",
    "In [Keras](https://keras.io), fully connected layers are represented by object of `Dense` type. An MLP is a simple network, thus we will build it as a `Sequential` model, and we only need to import two classes from the correct files. "
   ]
  },
  {
   "cell_type": "code",
   "execution_count": 9,
   "metadata": {},
   "outputs": [
    {
     "name": "stderr",
     "output_type": "stream",
     "text": [
      "Using TensorFlow backend.\n"
     ]
    }
   ],
   "source": [
    "from keras.models import Sequential\n",
    "from keras.layers import Dense"
   ]
  },
  {
   "cell_type": "markdown",
   "metadata": {},
   "source": [
    "OK, time to create the Neural Network! We will call this NN `first_model`, and name it `iris_MLP`. We give you the input and the output layers, you will just have to:\n",
    "\n",
    "- assign the correct value to the `nn_input_dim` variable, representing the size of *one* input sample (Keras will take care of adjusting the pipeline for the batch size)\n",
    "- assign the correct value to the `nn_output_dim` variable, representing the size of *one* prediction (or output)\n",
    "- create some hidden layers: use as many layers as you like, but don't overdo! Remember this is a fairly simple problem! You can even skip the hidden layers, if you like! Remember, for a `Sequential` model, you do not need to define input size for hidden layers, as it is automatically determined by Keras. You only specify the output size as `units`.\n",
    "\n",
    "Notice that we are using `'relu'` as activation function. Feel free to explore other possibilities!\n",
    "\n",
    "Once you defined your model (thus, after adding the output layer), you need to call `compile`, so that Keras can build the correct pipelines (feedforward and backpropagation) to train and use your model in inference mode. As we are dealing with labels, we use `'categorical_crossentropy'` as loss function. Then, we use a standard version of the Adam optimizer, and as metric we only want to see the classifier accuracy."
   ]
  },
  {
   "cell_type": "code",
   "execution_count": 16,
   "metadata": {},
   "outputs": [
    {
     "name": "stdout",
     "output_type": "stream",
     "text": [
      "_________________________________________________________________\n",
      "Layer (type)                 Output Shape              Param #   \n",
      "=================================================================\n",
      "dense_11 (Dense)             (None, 8)                 40        \n",
      "_________________________________________________________________\n",
      "dense_12 (Dense)             (None, 8)                 72        \n",
      "_________________________________________________________________\n",
      "dense_13 (Dense)             (None, 3)                 27        \n",
      "=================================================================\n",
      "Total params: 139\n",
      "Trainable params: 139\n",
      "Non-trainable params: 0\n",
      "_________________________________________________________________\n"
     ]
    }
   ],
   "source": [
    "# TODO assign the right values to input and output sizes\n",
    "nn_input_dim = n_features\n",
    "nn_output_dim = n_classes\n",
    "\n",
    "# Create model\n",
    "first_model = Sequential(name=\"iris_MLP\")\n",
    "\n",
    "# You can use this size for all layers, or change it according to their position...\n",
    "first_layer_output_size=8\n",
    "first_model.add(Dense(units=first_layer_output_size, input_dim=nn_input_dim, activation='relu'))\n",
    "\n",
    "#TODO add as many hidden layers as you wish\n",
    "first_model.add(Dense(units=first_layer_output_size, activation='relu'))\n",
    "\n",
    "first_model.add(Dense(nn_output_dim, activation='softmax'))\n",
    "\n",
    "# Compile model: since we want to use the Adam optimizer with standard parameters\n",
    "#                we do not instantiate a keras.models.optimizers.Adam object, instead\n",
    "#                we only call it by its string name\n",
    "first_model.compile(loss='categorical_crossentropy', \n",
    "              optimizer='adam', \n",
    "              metrics=['accuracy'])\n",
    "\n",
    "# Print a nice description of the model!\n",
    "first_model.summary()"
   ]
  },
  {
   "cell_type": "markdown",
   "metadata": {},
   "source": [
    "Since we want to be able to train multiple models and compare their results, we create an array holding models and start by populating it with `first_model`."
   ]
  },
  {
   "cell_type": "code",
   "execution_count": 17,
   "metadata": {},
   "outputs": [],
   "source": [
    "models = [first_model]"
   ]
  },
  {
   "cell_type": "markdown",
   "metadata": {},
   "source": [
    "In the next code block, you can define as many models as you like. You could even create them in a loop, modifying something at each iteration (number of nodes? layers? both?). Just remember to always compile them and `append` them to `models`! We start by adding a simple model with no hidden layers, but feel free to modify it!"
   ]
  },
  {
   "cell_type": "code",
   "execution_count": 18,
   "metadata": {},
   "outputs": [],
   "source": [
    "second_model = Sequential(name=\"second\")\n",
    "second_model.add(Dense(8, input_dim=nn_input_dim, activation='relu'))\n",
    "second_model.add(Dense(nn_output_dim, activation='softmax'))\n",
    "\n",
    "second_model.compile(loss='categorical_crossentropy', \n",
    "              optimizer='adam', \n",
    "              metrics=['accuracy'])\n",
    "\n",
    "models.append(second_model)"
   ]
  },
  {
   "cell_type": "markdown",
   "metadata": {},
   "source": [
    "We want to store the training and validation accuracy (and loss) we get at training time. To do this, we create a Python dictionary linking each model to its training history (the `history_callback`)."
   ]
  },
  {
   "cell_type": "code",
   "execution_count": 19,
   "metadata": {},
   "outputs": [],
   "source": [
    "history_dict = {}"
   ]
  },
  {
   "cell_type": "markdown",
   "metadata": {},
   "source": [
    "Let's start the trainings! For each model we added to `models` we call the `fit` function. Fill the call with the right `x` and `y` variables (these should be the variables you want to train your model on). The rest of the call has already been filled for you (thank us later).\n",
    "\n",
    "After the model has been trained, we compute and print out its accuracy on the test data.\n",
    "\n",
    "For each training, check the output: we set `verbose=1`, so that Keras prints out updates after each batch. It reports loss and accuracy for both training and validation datasets. Compare the last value of `val_acc` and the value of `score[1]`, which we print as `Test accuracy`. What do you observe? Can you explain this?"
   ]
  },
  {
   "cell_type": "code",
   "execution_count": 23,
   "metadata": {},
   "outputs": [
    {
     "name": "stdout",
     "output_type": "stream",
     "text": [
      "Model name: iris_MLP\n",
      "Train on 75 samples, validate on 75 samples\n",
      "Epoch 1/50\n",
      "75/75 [==============================] - 0s 683us/step - loss: 0.0741 - acc: 0.9600 - val_loss: 0.0915 - val_acc: 0.9467\n",
      "Epoch 2/50\n",
      "75/75 [==============================] - 0s 640us/step - loss: 0.0738 - acc: 0.9600 - val_loss: 0.0902 - val_acc: 0.9467\n",
      "Epoch 3/50\n",
      "75/75 [==============================] - 0s 637us/step - loss: 0.0734 - acc: 0.9600 - val_loss: 0.0908 - val_acc: 0.9467\n",
      "Epoch 4/50\n",
      "75/75 [==============================] - 0s 662us/step - loss: 0.0729 - acc: 0.9600 - val_loss: 0.0909 - val_acc: 0.9467\n",
      "Epoch 5/50\n",
      "75/75 [==============================] - 0s 686us/step - loss: 0.0738 - acc: 0.9600 - val_loss: 0.0962 - val_acc: 0.9467\n",
      "Epoch 6/50\n",
      "75/75 [==============================] - 0s 665us/step - loss: 0.0729 - acc: 0.9600 - val_loss: 0.0896 - val_acc: 0.9467\n",
      "Epoch 7/50\n",
      "75/75 [==============================] - 0s 644us/step - loss: 0.0736 - acc: 0.9600 - val_loss: 0.0946 - val_acc: 0.9467\n",
      "Epoch 8/50\n",
      "75/75 [==============================] - 0s 653us/step - loss: 0.0734 - acc: 0.9600 - val_loss: 0.0877 - val_acc: 0.9467\n",
      "Epoch 9/50\n",
      "75/75 [==============================] - 0s 673us/step - loss: 0.0718 - acc: 0.9600 - val_loss: 0.0874 - val_acc: 0.9467\n",
      "Epoch 10/50\n",
      "75/75 [==============================] - 0s 707us/step - loss: 0.0718 - acc: 0.9600 - val_loss: 0.0927 - val_acc: 0.9467\n",
      "Epoch 11/50\n",
      "75/75 [==============================] - 0s 662us/step - loss: 0.0711 - acc: 0.9733 - val_loss: 0.0898 - val_acc: 0.9467\n",
      "Epoch 12/50\n",
      "75/75 [==============================] - 0s 690us/step - loss: 0.0714 - acc: 0.9600 - val_loss: 0.0885 - val_acc: 0.9467\n",
      "Epoch 13/50\n",
      "75/75 [==============================] - 0s 676us/step - loss: 0.0707 - acc: 0.9600 - val_loss: 0.0880 - val_acc: 0.9467\n",
      "Epoch 14/50\n",
      "75/75 [==============================] - 0s 653us/step - loss: 0.0701 - acc: 0.9600 - val_loss: 0.0906 - val_acc: 0.9467\n",
      "Epoch 15/50\n",
      "75/75 [==============================] - 0s 687us/step - loss: 0.0707 - acc: 0.9600 - val_loss: 0.0875 - val_acc: 0.9467\n",
      "Epoch 16/50\n",
      "75/75 [==============================] - 0s 682us/step - loss: 0.0701 - acc: 0.9600 - val_loss: 0.0883 - val_acc: 0.9467\n",
      "Epoch 17/50\n",
      "75/75 [==============================] - 0s 662us/step - loss: 0.0697 - acc: 0.9600 - val_loss: 0.0886 - val_acc: 0.9467\n",
      "Epoch 18/50\n",
      "75/75 [==============================] - 0s 667us/step - loss: 0.0698 - acc: 0.9600 - val_loss: 0.0884 - val_acc: 0.9467\n",
      "Epoch 19/50\n",
      "75/75 [==============================] - 0s 671us/step - loss: 0.0690 - acc: 0.9733 - val_loss: 0.0915 - val_acc: 0.9467\n",
      "Epoch 20/50\n",
      "75/75 [==============================] - 0s 676us/step - loss: 0.0695 - acc: 0.9733 - val_loss: 0.0864 - val_acc: 0.9467\n",
      "Epoch 21/50\n",
      "75/75 [==============================] - 0s 657us/step - loss: 0.0688 - acc: 0.9600 - val_loss: 0.0863 - val_acc: 0.9467\n",
      "Epoch 22/50\n",
      "75/75 [==============================] - 0s 672us/step - loss: 0.0691 - acc: 0.9600 - val_loss: 0.0861 - val_acc: 0.9467\n",
      "Epoch 23/50\n",
      "75/75 [==============================] - 0s 674us/step - loss: 0.0679 - acc: 0.9600 - val_loss: 0.0881 - val_acc: 0.9467\n",
      "Epoch 24/50\n",
      "75/75 [==============================] - 0s 676us/step - loss: 0.0685 - acc: 0.9600 - val_loss: 0.0888 - val_acc: 0.9467\n",
      "Epoch 25/50\n",
      "75/75 [==============================] - 0s 680us/step - loss: 0.0682 - acc: 0.9733 - val_loss: 0.0918 - val_acc: 0.9467\n",
      "Epoch 26/50\n",
      "75/75 [==============================] - 0s 682us/step - loss: 0.0693 - acc: 0.9733 - val_loss: 0.0940 - val_acc: 0.9467\n",
      "Epoch 27/50\n",
      "75/75 [==============================] - 0s 668us/step - loss: 0.0674 - acc: 0.9600 - val_loss: 0.0861 - val_acc: 0.9467\n",
      "Epoch 28/50\n",
      "75/75 [==============================] - 0s 691us/step - loss: 0.0671 - acc: 0.9600 - val_loss: 0.0874 - val_acc: 0.9467\n",
      "Epoch 29/50\n",
      "75/75 [==============================] - 0s 695us/step - loss: 0.0675 - acc: 0.9600 - val_loss: 0.0888 - val_acc: 0.9467\n",
      "Epoch 30/50\n",
      "75/75 [==============================] - 0s 669us/step - loss: 0.0668 - acc: 0.9733 - val_loss: 0.0840 - val_acc: 0.9467\n",
      "Epoch 31/50\n",
      "75/75 [==============================] - 0s 654us/step - loss: 0.0681 - acc: 0.9600 - val_loss: 0.0878 - val_acc: 0.9467\n",
      "Epoch 32/50\n",
      "75/75 [==============================] - 0s 671us/step - loss: 0.0661 - acc: 0.9600 - val_loss: 0.0849 - val_acc: 0.9467\n",
      "Epoch 33/50\n",
      "75/75 [==============================] - 0s 678us/step - loss: 0.0669 - acc: 0.9600 - val_loss: 0.0870 - val_acc: 0.9467\n",
      "Epoch 34/50\n",
      "75/75 [==============================] - 0s 663us/step - loss: 0.0660 - acc: 0.9600 - val_loss: 0.0865 - val_acc: 0.9467\n",
      "Epoch 35/50\n",
      "75/75 [==============================] - 0s 725us/step - loss: 0.0665 - acc: 0.9600 - val_loss: 0.0881 - val_acc: 0.9467\n",
      "Epoch 36/50\n",
      "75/75 [==============================] - 0s 696us/step - loss: 0.0658 - acc: 0.9600 - val_loss: 0.0863 - val_acc: 0.9467\n",
      "Epoch 37/50\n",
      "75/75 [==============================] - 0s 666us/step - loss: 0.0674 - acc: 0.9600 - val_loss: 0.0815 - val_acc: 0.9467\n",
      "Epoch 38/50\n",
      "75/75 [==============================] - 0s 696us/step - loss: 0.0654 - acc: 0.9600 - val_loss: 0.0845 - val_acc: 0.9467\n",
      "Epoch 39/50\n",
      "75/75 [==============================] - 0s 660us/step - loss: 0.0654 - acc: 0.9600 - val_loss: 0.0841 - val_acc: 0.9467\n",
      "Epoch 40/50\n",
      "75/75 [==============================] - 0s 675us/step - loss: 0.0653 - acc: 0.9600 - val_loss: 0.0885 - val_acc: 0.9467\n",
      "Epoch 41/50\n",
      "75/75 [==============================] - 0s 719us/step - loss: 0.0660 - acc: 0.9733 - val_loss: 0.0853 - val_acc: 0.9467\n",
      "Epoch 42/50\n",
      "75/75 [==============================] - 0s 686us/step - loss: 0.0667 - acc: 0.9600 - val_loss: 0.0901 - val_acc: 0.9467\n",
      "Epoch 43/50\n",
      "75/75 [==============================] - 0s 715us/step - loss: 0.0646 - acc: 0.9733 - val_loss: 0.0852 - val_acc: 0.9467\n",
      "Epoch 44/50\n",
      "75/75 [==============================] - 0s 665us/step - loss: 0.0653 - acc: 0.9600 - val_loss: 0.0872 - val_acc: 0.9467\n",
      "Epoch 45/50\n",
      "75/75 [==============================] - 0s 660us/step - loss: 0.0645 - acc: 0.9600 - val_loss: 0.0873 - val_acc: 0.9467\n",
      "Epoch 46/50\n",
      "75/75 [==============================] - 0s 657us/step - loss: 0.0640 - acc: 0.9600 - val_loss: 0.0850 - val_acc: 0.9467\n",
      "Epoch 47/50\n",
      "75/75 [==============================] - 0s 664us/step - loss: 0.0643 - acc: 0.9600 - val_loss: 0.0862 - val_acc: 0.9467\n",
      "Epoch 48/50\n",
      "75/75 [==============================] - 0s 677us/step - loss: 0.0642 - acc: 0.9600 - val_loss: 0.0815 - val_acc: 0.9467\n",
      "Epoch 49/50\n",
      "75/75 [==============================] - 0s 661us/step - loss: 0.0645 - acc: 0.9600 - val_loss: 0.0861 - val_acc: 0.9467\n",
      "Epoch 50/50\n",
      "75/75 [==============================] - 0s 661us/step - loss: 0.0643 - acc: 0.9600 - val_loss: 0.0829 - val_acc: 0.9467\n",
      "Test loss: 0.08290038180847963\n",
      "Test accuracy: 0.9466666666666667\n",
      "\n",
      "\n",
      "Model name: second\n",
      "Train on 75 samples, validate on 75 samples\n",
      "Epoch 1/50\n",
      "75/75 [==============================] - 0s 605us/step - loss: 0.1550 - acc: 0.9733 - val_loss: 0.1823 - val_acc: 0.9467\n",
      "Epoch 2/50\n",
      "75/75 [==============================] - 0s 632us/step - loss: 0.1530 - acc: 0.9733 - val_loss: 0.1799 - val_acc: 0.9467\n",
      "Epoch 3/50\n",
      "75/75 [==============================] - 0s 623us/step - loss: 0.1509 - acc: 0.9733 - val_loss: 0.1791 - val_acc: 0.9467\n",
      "Epoch 4/50\n",
      "75/75 [==============================] - 0s 621us/step - loss: 0.1497 - acc: 0.9733 - val_loss: 0.1767 - val_acc: 0.9467\n",
      "Epoch 5/50\n",
      "75/75 [==============================] - 0s 610us/step - loss: 0.1477 - acc: 0.9733 - val_loss: 0.1772 - val_acc: 0.9467\n",
      "Epoch 6/50\n",
      "75/75 [==============================] - 0s 611us/step - loss: 0.1461 - acc: 0.9733 - val_loss: 0.1761 - val_acc: 0.9467\n",
      "Epoch 7/50\n",
      "75/75 [==============================] - 0s 615us/step - loss: 0.1451 - acc: 0.9733 - val_loss: 0.1724 - val_acc: 0.9467\n",
      "Epoch 8/50\n",
      "75/75 [==============================] - 0s 634us/step - loss: 0.1445 - acc: 0.9733 - val_loss: 0.1742 - val_acc: 0.9467\n",
      "Epoch 9/50\n",
      "75/75 [==============================] - 0s 607us/step - loss: 0.1416 - acc: 0.9733 - val_loss: 0.1710 - val_acc: 0.9467\n",
      "Epoch 10/50\n",
      "75/75 [==============================] - 0s 603us/step - loss: 0.1404 - acc: 0.9733 - val_loss: 0.1686 - val_acc: 0.9467\n",
      "Epoch 11/50\n",
      "75/75 [==============================] - 0s 613us/step - loss: 0.1391 - acc: 0.9733 - val_loss: 0.1676 - val_acc: 0.9467\n",
      "Epoch 12/50\n",
      "75/75 [==============================] - 0s 633us/step - loss: 0.1376 - acc: 0.9733 - val_loss: 0.1652 - val_acc: 0.9467\n",
      "Epoch 13/50\n",
      "75/75 [==============================] - 0s 656us/step - loss: 0.1365 - acc: 0.9733 - val_loss: 0.1629 - val_acc: 0.9467\n",
      "Epoch 14/50\n",
      "75/75 [==============================] - 0s 629us/step - loss: 0.1348 - acc: 0.9733 - val_loss: 0.1621 - val_acc: 0.9467\n",
      "Epoch 15/50\n",
      "75/75 [==============================] - 0s 639us/step - loss: 0.1334 - acc: 0.9733 - val_loss: 0.1633 - val_acc: 0.9467\n",
      "Epoch 16/50\n",
      "75/75 [==============================] - 0s 621us/step - loss: 0.1323 - acc: 0.9733 - val_loss: 0.1628 - val_acc: 0.9467\n",
      "Epoch 17/50\n",
      "75/75 [==============================] - 0s 607us/step - loss: 0.1310 - acc: 0.9733 - val_loss: 0.1607 - val_acc: 0.9467\n",
      "Epoch 18/50\n",
      "75/75 [==============================] - 0s 613us/step - loss: 0.1302 - acc: 0.9733 - val_loss: 0.1586 - val_acc: 0.9467\n",
      "Epoch 19/50\n",
      "75/75 [==============================] - 0s 602us/step - loss: 0.1284 - acc: 0.9733 - val_loss: 0.1578 - val_acc: 0.9467\n",
      "Epoch 20/50\n",
      "75/75 [==============================] - 0s 614us/step - loss: 0.1277 - acc: 0.9733 - val_loss: 0.1586 - val_acc: 0.9467\n",
      "Epoch 21/50\n",
      "75/75 [==============================] - 0s 620us/step - loss: 0.1263 - acc: 0.9733 - val_loss: 0.1565 - val_acc: 0.9467\n",
      "Epoch 22/50\n",
      "75/75 [==============================] - 0s 640us/step - loss: 0.1253 - acc: 0.9733 - val_loss: 0.1556 - val_acc: 0.9467\n",
      "Epoch 23/50\n",
      "75/75 [==============================] - 0s 605us/step - loss: 0.1241 - acc: 0.9733 - val_loss: 0.1534 - val_acc: 0.9467\n",
      "Epoch 24/50\n",
      "75/75 [==============================] - 0s 615us/step - loss: 0.1233 - acc: 0.9733 - val_loss: 0.1511 - val_acc: 0.9467\n",
      "Epoch 25/50\n",
      "75/75 [==============================] - 0s 600us/step - loss: 0.1223 - acc: 0.9733 - val_loss: 0.1512 - val_acc: 0.9467\n",
      "Epoch 26/50\n",
      "75/75 [==============================] - 0s 626us/step - loss: 0.1210 - acc: 0.9733 - val_loss: 0.1512 - val_acc: 0.9467\n",
      "Epoch 27/50\n",
      "75/75 [==============================] - 0s 606us/step - loss: 0.1198 - acc: 0.9733 - val_loss: 0.1502 - val_acc: 0.9467\n",
      "Epoch 28/50\n",
      "75/75 [==============================] - 0s 599us/step - loss: 0.1192 - acc: 0.9733 - val_loss: 0.1475 - val_acc: 0.9467\n",
      "Epoch 29/50\n",
      "75/75 [==============================] - 0s 613us/step - loss: 0.1179 - acc: 0.9733 - val_loss: 0.1479 - val_acc: 0.9467\n",
      "Epoch 30/50\n",
      "75/75 [==============================] - 0s 648us/step - loss: 0.1171 - acc: 0.9733 - val_loss: 0.1481 - val_acc: 0.9467\n",
      "Epoch 31/50\n",
      "75/75 [==============================] - 0s 613us/step - loss: 0.1159 - acc: 0.9733 - val_loss: 0.1463 - val_acc: 0.9467\n",
      "Epoch 32/50\n",
      "75/75 [==============================] - 0s 615us/step - loss: 0.1151 - acc: 0.9733 - val_loss: 0.1450 - val_acc: 0.9467\n",
      "Epoch 33/50\n",
      "75/75 [==============================] - 0s 619us/step - loss: 0.1145 - acc: 0.9733 - val_loss: 0.1430 - val_acc: 0.9467\n",
      "Epoch 34/50\n",
      "75/75 [==============================] - 0s 637us/step - loss: 0.1134 - acc: 0.9733 - val_loss: 0.1434 - val_acc: 0.9467\n",
      "Epoch 35/50\n",
      "75/75 [==============================] - 0s 611us/step - loss: 0.1125 - acc: 0.9733 - val_loss: 0.1445 - val_acc: 0.9467\n",
      "Epoch 36/50\n",
      "75/75 [==============================] - 0s 611us/step - loss: 0.1116 - acc: 0.9733 - val_loss: 0.1432 - val_acc: 0.9467\n",
      "Epoch 37/50\n",
      "75/75 [==============================] - 0s 618us/step - loss: 0.1107 - acc: 0.9733 - val_loss: 0.1419 - val_acc: 0.9467\n",
      "Epoch 38/50\n",
      "75/75 [==============================] - 0s 598us/step - loss: 0.1108 - acc: 0.9733 - val_loss: 0.1389 - val_acc: 0.9467\n",
      "Epoch 39/50\n",
      "75/75 [==============================] - 0s 640us/step - loss: 0.1090 - acc: 0.9733 - val_loss: 0.1397 - val_acc: 0.9467\n",
      "Epoch 40/50\n",
      "75/75 [==============================] - 0s 603us/step - loss: 0.1082 - acc: 0.9733 - val_loss: 0.1394 - val_acc: 0.9467\n",
      "Epoch 41/50\n",
      "75/75 [==============================] - 0s 601us/step - loss: 0.1074 - acc: 0.9733 - val_loss: 0.1396 - val_acc: 0.9467\n",
      "Epoch 42/50\n",
      "75/75 [==============================] - 0s 614us/step - loss: 0.1067 - acc: 0.9733 - val_loss: 0.1384 - val_acc: 0.9467\n",
      "Epoch 43/50\n",
      "75/75 [==============================] - 0s 605us/step - loss: 0.1058 - acc: 0.9733 - val_loss: 0.1374 - val_acc: 0.9467\n",
      "Epoch 44/50\n",
      "75/75 [==============================] - 0s 613us/step - loss: 0.1051 - acc: 0.9733 - val_loss: 0.1385 - val_acc: 0.9467\n",
      "Epoch 45/50\n",
      "75/75 [==============================] - 0s 632us/step - loss: 0.1042 - acc: 0.9733 - val_loss: 0.1375 - val_acc: 0.9467\n",
      "Epoch 46/50\n",
      "75/75 [==============================] - 0s 652us/step - loss: 0.1038 - acc: 0.9733 - val_loss: 0.1382 - val_acc: 0.9467\n",
      "Epoch 47/50\n",
      "75/75 [==============================] - 0s 607us/step - loss: 0.1029 - acc: 0.9733 - val_loss: 0.1351 - val_acc: 0.9467\n",
      "Epoch 48/50\n",
      "75/75 [==============================] - 0s 601us/step - loss: 0.1022 - acc: 0.9733 - val_loss: 0.1359 - val_acc: 0.9467\n",
      "Epoch 49/50\n",
      "75/75 [==============================] - 0s 606us/step - loss: 0.1013 - acc: 0.9733 - val_loss: 0.1341 - val_acc: 0.9467\n",
      "Epoch 50/50\n",
      "75/75 [==============================] - 0s 624us/step - loss: 0.1006 - acc: 0.9733 - val_loss: 0.1341 - val_acc: 0.9467\n",
      "Test loss: 0.13411748230457307\n",
      "Test accuracy: 0.9466666666666667\n",
      "\n",
      "\n"
     ]
    }
   ],
   "source": [
    "batch_size = 5\n",
    "epochs = 50\n",
    "\n",
    "for model in models:\n",
    "    print('Model name:', model.name)\n",
    "    #TODO assign the right variables to x and y\n",
    "    history_callback = model.fit(x=X_train, y=Y_train,\n",
    "                                 batch_size=batch_size,\n",
    "                                 epochs=epochs,\n",
    "                                 verbose=1,\n",
    "                                 validation_data=(X_test, Y_test))\n",
    "    score = model.evaluate(X_test, Y_test, verbose=0)\n",
    "    print('Test loss:', score[0])\n",
    "    print('Test accuracy:', score[1])\n",
    "    print('\\n')\n",
    "\n",
    "    history_dict[model.name] = [history_callback, model]"
   ]
  },
  {
   "cell_type": "markdown",
   "metadata": {},
   "source": [
    "Now some more plotting! From the histories we stored, we access `'acc'`, `'loss'`, '`val_acc`', and `'val_loss'`. We create two plots, one for accuracy and one for loss, then we plot the learning curves of each model. What do you observe? "
   ]
  },
  {
   "cell_type": "code",
   "execution_count": 21,
   "metadata": {},
   "outputs": [
    {
     "data": {
      "image/png": "[encoded data removed]",
      "text/plain": [
       "<Figure size 576x432 with 2 Axes>"
      ]
     },
     "metadata": {},
     "output_type": "display_data"
    }
   ],
   "source": [
    "fig, (ax1, ax2) = plt.subplots(2, figsize=(8, 6))\n",
    "\n",
    "colorstring = \"rgbcmk\"\n",
    "\n",
    "for i,model_name in enumerate(history_dict):\n",
    "    train_acc = history_dict[model_name][0].history['acc']\n",
    "    train_loss = history_dict[model_name][0].history['loss']\n",
    "    val_acc = history_dict[model_name][0].history['val_acc']\n",
    "    val_loss = history_dict[model_name][0].history['val_loss']\n",
    "    ax1.plot(train_acc, colorstring[i]+':', label=model_name+\" train\")\n",
    "    ax1.plot(val_acc, colorstring[i], label=model_name+\" val\")\n",
    "    ax2.plot(val_loss, colorstring[i], label=model_name)\n",
    "    \n",
    "ax1.set_ylabel('accuracy')\n",
    "ax2.set_ylabel('loss')\n",
    "ax2.set_xlabel('epochs')\n",
    "ax1.legend()\n",
    "ax2.legend()\n",
    "plt.show()\n"
   ]
  },
  {
   "cell_type": "markdown",
   "metadata": {},
   "source": [
    "Congratulations, you just built and trained your first Neural Networks! Now take some time to do some quick experiment, add more layers, more nodes, change the optimizer... [Keras docs](https://keras.io/) are your friends! What is the best accuracy you can get? How quick? You can also change batch size and number of epochs you want to train for... have fun! (Hint: you can suppress the training output by setting `verbose` to `0`)"
   ]
  }
 ],
 "metadata": {
  "kernelspec": {
   "display_name": "Python 3",
   "language": "python",
   "name": "python3"
  },
  "language_info": {
   "codemirror_mode": {
    "name": "ipython",
    "version": 3
   },
   "file_extension": ".py",
   "mimetype": "text/x-python",
   "name": "python",
   "nbconvert_exporter": "python",
   "pygments_lexer": "ipython3",
   "version": "3.6.5"
  }
 },
 "nbformat": 4,
 "nbformat_minor": 2
}
