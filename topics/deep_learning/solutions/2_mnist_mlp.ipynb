{
 "cells": [
  {
   "cell_type": "markdown",
   "metadata": {},
   "source": [
    "# MNIST: a classic real-world use case\n",
    "\n",
    "In this notebook, you will apply a Multi-Layer Perceptron to the famous MNIST dataset. You will have a chance to play around with different training techniques, and see how they influence the results your MLP will obtain.\n",
    "\n",
    "## 1. Setting up the environment\n",
    "As usual, the first step is to load all needed libraries. We are using the MNIST dataset, which is automatically downloaded by Keras when needed, through the `keras.datasets` module. We will not need `scikit-learn`, and we will find pre-processing routines in Keras and NumPy."
   ]
  },
  {
   "cell_type": "code",
   "execution_count": 1,
   "metadata": {},
   "outputs": [
    {
     "name": "stderr",
     "output_type": "stream",
     "text": [
      "Using TensorFlow backend.\n"
     ]
    }
   ],
   "source": [
    "import matplotlib.pyplot as plt\n",
    "plt.style.use('ggplot')\n",
    "%matplotlib inline\n",
    "import numpy as np\n",
    "\n",
    "from __future__ import print_function\n",
    "\n",
    "import keras\n",
    "from keras.datasets import mnist"
   ]
  },
  {
   "cell_type": "markdown",
   "metadata": {},
   "source": [
    "## 2. The data: MNIST dataset\n",
    "From [Wikipedia](https://en.wikipedia.org/wiki/MNIST_database):\n",
    "\n",
    ">The MNIST database (Modified National Institute of Standards and Technology database) is a large database of handwritten digits that is commonly used for training various image processing systems. The database is also widely used for training and testing in the field of machine learning. It was created by \"re-mixing\" the samples from NIST's original datasets. The creators felt that since NIST's training dataset was taken from American Census Bureau employees, while the testing dataset was taken from American high school students, it was not well-suited for machine learning experiments. Furthermore, the black and white images from NIST were normalized to fit into a 28x28 pixel bounding box and anti-aliased, which introduced grayscale levels.\n",
    "\n",
    ">The MNIST database contains 60,000 training images and 10,000 testing images. Half of the training set and half of the test set were taken from NIST's training dataset, while the other half of the training set and the other half of the test set were taken from NIST's testing dataset. \n",
    "\n",
    "In Keras, we can load the MNIST dataset using a built-in function, which will automatically load both training and test dataset. The one-hot-encoded versions of `y_train_original` and `y_test` are obtained with `keras.utils.to_categorical`. You need to define `n_classes`, i.e. the number of labels we are classifying our samples into. Since we are dealing with hand-written digits, you might guess what value you have to assign to `n_classes`, otherwise, you can explore `y`. "
   ]
  },
  {
   "cell_type": "code",
   "execution_count": 2,
   "metadata": {},
   "outputs": [],
   "source": [
    "# the data, split between train and test sets\n",
    "(X_train_original, y_train_original), (X_test, y_test) = mnist.load_data()\n",
    "\n",
    "# TODO assign the right value to num_classes, i.e. the number of different labels of our samples\n",
    "n_classes = 10\n",
    "# convert class vectors to binary class matrices\n",
    "Y_train = keras.utils.to_categorical(y_train_original, n_classes)\n",
    "Y_test = keras.utils.to_categorical(y_test, n_classes)"
   ]
  },
  {
   "cell_type": "markdown",
   "metadata": {},
   "source": [
    "As usual, we need to extract some useful information from the data and check that the datasets have the shape we expect. We are interested in four values:\n",
    "\n",
    "- `n_train_samples`: the number of samples in our training set\n",
    "- `img_rows`: the number of rows in one image sample\n",
    "- `img_cols`: the number of columns in one image sample\n",
    "- `n_test_samples`: the number of samples in our test set"
   ]
  },
  {
   "cell_type": "code",
   "execution_count": 3,
   "metadata": {},
   "outputs": [
    {
     "name": "stdout",
     "output_type": "stream",
     "text": [
      "Training dataset: 60000 images, each one of size 28x28 pixels\n",
      "Test dataset: 10000 images\n"
     ]
    }
   ],
   "source": [
    "# TODO: assign the right values to the following variables\n",
    "n_train_samples = X_train_original.shape[0]\n",
    "img_rows = X_train_original.shape[1]\n",
    "img_cols = X_train_original.shape[2]\n",
    "n_test_samples  = X_test.shape[0]\n",
    "\n",
    "print(\"Training dataset: {} images, each one of size {}x{} pixels\".format(n_train_samples, img_rows, img_cols))\n",
    "print(\"Test dataset: {} images\".format(n_test_samples))"
   ]
  },
  {
   "cell_type": "markdown",
   "metadata": {},
   "source": [
    "# 3. Preprocessing the data\n",
    "MLPs only accept vectors (or, if they accept matrices, they treat them as vectors). Since our samples are 2D gray scale images, thus matrices, we need to reshape them. To do this, we will use the NumPy function `reshape`. Every image will be turned into a vector: its size must be equal to the number of pixels contained in one image. Can you assign the right value to `img_pixels`, in the code block below?"
   ]
  },
  {
   "cell_type": "code",
   "execution_count": 4,
   "metadata": {},
   "outputs": [],
   "source": [
    "# TODO assign the right value to the vectorized image\n",
    "img_pixels = img_rows*img_cols\n",
    "X_train = X_train_original.reshape(n_train_samples, img_pixels)\n",
    "X_test = X_test.reshape(n_test_samples, img_pixels)"
   ]
  },
  {
   "cell_type": "markdown",
   "metadata": {},
   "source": [
    "Time to scale the data. In this case, the original images are given as 8-bit integers (`0`-`255`), thus we first cast them to floating point numbers, and then scale them to be in the `0`-`1` range."
   ]
  },
  {
   "cell_type": "code",
   "execution_count": 5,
   "metadata": {},
   "outputs": [],
   "source": [
    "X_train = X_train.astype('float32')\n",
    "X_test = X_test.astype('float32')\n",
    "X_train /= 255\n",
    "X_test /= 255"
   ]
  },
  {
   "cell_type": "markdown",
   "metadata": {},
   "source": [
    "# 4. Visualizing the data\n",
    "Now that you have prepared the data, why not look into it? \n",
    "\n",
    "Let us plot some samples! We suggest you use the function `plt.imshow` as shown in the following code block. Remember to use the samples stored in `x_train_original`, and not their vectorized counterparts (stored in `x_train`), as the latter do not look very interesting when plotted! Addd a title to the image you plot (with `plt.title(\"YOUR TITLE\")`), and use it to display the sample label.\n"
   ]
  },
  {
   "cell_type": "code",
   "execution_count": 6,
   "metadata": {},
   "outputs": [
    {
     "data": {
      "image/png": "[encoded data removed]",
      "text/plain": [
       "<Figure size 360x360 with 1 Axes>"
      ]
     },
     "metadata": {},
     "output_type": "display_data"
    }
   ],
   "source": [
    "plt.figure(figsize=(5,5))\n",
    "\n",
    "#TODO  assign a sample to this variable \n",
    "# (or put this into a loop and use it with subplot, as in the previous notebook, to see more samples at once)\n",
    "\n",
    "sample = X_train_original[32]\n",
    "plt.imshow(sample,cmap='gray')\n",
    "sample_label = y_train_original[32]\n",
    "plt.title(\"This image is a \" + str(sample_label) ); #The semicolon suppreses text output\n"
   ]
  },
  {
   "cell_type": "markdown",
   "metadata": {},
   "source": [
    "## 5. Applying Neural Networks to the problem\n",
    "\n",
    "Alright! Time to use Neural Networks again! As usual, you decide how to shape the network. Some suggestions:\n",
    "\n",
    "- Input and output layers are already written for you, just assign the right values to input and output dimensions.\n",
    "- Dense layers should have a number of nodes similar (not necessarily equal) to the input size\n",
    "- Start with dense layers only. Use `'relu'` as activation function.\n",
    "\n",
    "After you've defined your network, you will have to `compile` the model (look at the previous notebook if you do not remember how!)."
   ]
  },
  {
   "cell_type": "code",
   "execution_count": 7,
   "metadata": {},
   "outputs": [
    {
     "name": "stdout",
     "output_type": "stream",
     "text": [
      "_________________________________________________________________\n",
      "Layer (type)                 Output Shape              Param #   \n",
      "=================================================================\n",
      "dense_1 (Dense)              (None, 512)               401920    \n",
      "_________________________________________________________________\n",
      "dropout_1 (Dropout)          (None, 512)               0         \n",
      "_________________________________________________________________\n",
      "dense_2 (Dense)              (None, 512)               262656    \n",
      "_________________________________________________________________\n",
      "dropout_2 (Dropout)          (None, 512)               0         \n",
      "_________________________________________________________________\n",
      "dense_3 (Dense)              (None, 512)               262656    \n",
      "_________________________________________________________________\n",
      "dropout_3 (Dropout)          (None, 512)               0         \n",
      "_________________________________________________________________\n",
      "dense_4 (Dense)              (None, 512)               262656    \n",
      "_________________________________________________________________\n",
      "dropout_4 (Dropout)          (None, 512)               0         \n",
      "_________________________________________________________________\n",
      "dense_5 (Dense)              (None, 10)                5130      \n",
      "=================================================================\n",
      "Total params: 1,195,018\n",
      "Trainable params: 1,195,018\n",
      "Non-trainable params: 0\n",
      "_________________________________________________________________\n"
     ]
    }
   ],
   "source": [
    "from keras.models import Sequential\n",
    "from keras.layers import Dense, Dropout\n",
    "from keras.optimizers import RMSprop, SGD, Adagrad, Adadelta, Adam\n",
    "\n",
    "nodes = 512\n",
    "\n",
    "#TODO assign input and output dimensions\n",
    "input_dimension = img_pixels\n",
    "output_dimension = n_classes\n",
    "dropout_prob = 0.2\n",
    "\n",
    "model = Sequential()\n",
    "# Input layer\n",
    "model.add(Dense(nodes, activation='relu', input_dim=input_dimension))\n",
    "# TODO add hidden layers\n",
    "model.add(Dropout(0.2))\n",
    "model.add(Dense(nodes, activation='relu'))\n",
    "model.add(Dropout(0.2))\n",
    "model.add(Dense(nodes, activation='relu'))\n",
    "model.add(Dropout(0.2))\n",
    "model.add(Dense(nodes, activation='relu'))\n",
    "model.add(Dropout(0.2))\n",
    "\n",
    "# Output layer\n",
    "model.add(Dense(output_dimension, activation='softmax'))\n",
    "\n",
    "model.name= \"MNIST_MLP\"\n",
    "model.summary()\n",
    "\n",
    "# TODO: compile the model. As metrics we use accuracy,\n",
    "#       as loss we use categorical_crossentropy\n",
    "#       as optimizer we start with SGD, which we simply\n",
    "#       instantiate with default parameters, by writing\n",
    "#       optimizer=SGD() or optimizer='sgd'\n",
    "model.compile(loss='categorical_crossentropy',\n",
    "              optimizer='sgd',\n",
    "              metrics=['accuracy'])"
   ]
  },
  {
   "cell_type": "markdown",
   "metadata": {},
   "source": [
    "Now, it's training time! Define some easy hyper-parameters, such as `batch_size` and `epochs`. Then call `model.fit`... again, if you don't remember how, look at the previous notebook!\n",
    "\n",
    "Then, once the training is finished, we print the test score. Is it good? Does it satisfy you? We will look at some more details in the next blocks."
   ]
  },
  {
   "cell_type": "code",
   "execution_count": 8,
   "metadata": {},
   "outputs": [
    {
     "name": "stdout",
     "output_type": "stream",
     "text": [
      "Train on 60000 samples, validate on 10000 samples\n",
      "Epoch 1/20\n",
      "60000/60000 [==============================] - 7s 111us/step - loss: 0.7745 - acc: 0.7614 - val_loss: 0.2730 - val_acc: 0.9177\n",
      "Epoch 2/20\n",
      "60000/60000 [==============================] - 5s 88us/step - loss: 0.3065 - acc: 0.9083 - val_loss: 0.1880 - val_acc: 0.9438\n",
      "Epoch 3/20\n",
      "60000/60000 [==============================] - 5s 89us/step - loss: 0.2259 - acc: 0.9328 - val_loss: 0.1470 - val_acc: 0.9547\n",
      "Epoch 4/20\n",
      "60000/60000 [==============================] - 5s 89us/step - loss: 0.1823 - acc: 0.9455 - val_loss: 0.1233 - val_acc: 0.9620\n",
      "Epoch 5/20\n",
      "60000/60000 [==============================] - 5s 88us/step - loss: 0.1545 - acc: 0.9539 - val_loss: 0.1065 - val_acc: 0.9671\n",
      "Epoch 6/20\n",
      "60000/60000 [==============================] - 5s 89us/step - loss: 0.1367 - acc: 0.9594 - val_loss: 0.0981 - val_acc: 0.9708\n",
      "Epoch 7/20\n",
      "60000/60000 [==============================] - 5s 88us/step - loss: 0.1187 - acc: 0.9640 - val_loss: 0.0912 - val_acc: 0.9702\n",
      "Epoch 8/20\n",
      "60000/60000 [==============================] - 5s 88us/step - loss: 0.1095 - acc: 0.9666 - val_loss: 0.0843 - val_acc: 0.9726\n",
      "Epoch 9/20\n",
      "60000/60000 [==============================] - 5s 88us/step - loss: 0.0977 - acc: 0.9706 - val_loss: 0.0777 - val_acc: 0.9748\n",
      "Epoch 10/20\n",
      "60000/60000 [==============================] - 5s 89us/step - loss: 0.0882 - acc: 0.9735 - val_loss: 0.0759 - val_acc: 0.9759\n",
      "Epoch 11/20\n",
      "60000/60000 [==============================] - 5s 89us/step - loss: 0.0822 - acc: 0.9754 - val_loss: 0.0707 - val_acc: 0.9764\n",
      "Epoch 12/20\n",
      "60000/60000 [==============================] - 5s 88us/step - loss: 0.0748 - acc: 0.9772 - val_loss: 0.0716 - val_acc: 0.9771\n",
      "Epoch 13/20\n",
      "60000/60000 [==============================] - 5s 88us/step - loss: 0.0697 - acc: 0.9789 - val_loss: 0.0691 - val_acc: 0.9762\n",
      "Epoch 14/20\n",
      "60000/60000 [==============================] - 5s 88us/step - loss: 0.0638 - acc: 0.9807 - val_loss: 0.0675 - val_acc: 0.9788\n",
      "Epoch 15/20\n",
      "60000/60000 [==============================] - 5s 88us/step - loss: 0.0589 - acc: 0.9818 - val_loss: 0.0688 - val_acc: 0.9790\n",
      "Epoch 16/20\n",
      "60000/60000 [==============================] - 5s 88us/step - loss: 0.0569 - acc: 0.9817 - val_loss: 0.0639 - val_acc: 0.9799\n",
      "Epoch 17/20\n",
      "60000/60000 [==============================] - 5s 88us/step - loss: 0.0511 - acc: 0.9844 - val_loss: 0.0621 - val_acc: 0.9794\n",
      "Epoch 18/20\n",
      "60000/60000 [==============================] - 5s 89us/step - loss: 0.0479 - acc: 0.9853 - val_loss: 0.0627 - val_acc: 0.9796\n",
      "Epoch 19/20\n",
      "60000/60000 [==============================] - 5s 89us/step - loss: 0.0449 - acc: 0.9860 - val_loss: 0.0609 - val_acc: 0.9802\n",
      "Epoch 20/20\n",
      "60000/60000 [==============================] - 5s 89us/step - loss: 0.0408 - acc: 0.9871 - val_loss: 0.0604 - val_acc: 0.9804\n",
      "Test loss: 0.060357185270928315\n",
      "Test accuracy: 0.9804\n"
     ]
    }
   ],
   "source": [
    "batch_size = 32\n",
    "epochs = 20\n",
    "\n",
    "# TODO: call the fit function, you have all needed parameters!\n",
    "history_callback = model.fit(X_train, Y_train,\n",
    "                    batch_size=batch_size,\n",
    "                    epochs=epochs,\n",
    "                    verbose=1,\n",
    "                    validation_data=(X_test, Y_test))\n",
    "\n",
    "score = model.evaluate(X_test, Y_test, verbose=0)\n",
    "print('Test loss:', score[0])\n",
    "print('Test accuracy:', score[1])"
   ]
  },
  {
   "cell_type": "markdown",
   "metadata": {},
   "source": [
    "First of all, once you've trained a network, you might want to use it in _inference mode_.\n",
    "\n",
    "To do this, we can use `model.predict(sample)`: as input, it requires an array of samples, thus, if you only want to give it one sample (the $n$th sample), you will have to take a slice of an array, like `X_train[n:(n+1)]`. Can you interpret the output? And can you get the predicted label from it?\n",
    "\n",
    "Optional: find a sample for which the prediction is wrong and plot it. Why you think it was mis-classified?"
   ]
  },
  {
   "cell_type": "code",
   "execution_count": 9,
   "metadata": {},
   "outputs": [
    {
     "data": {
      "image/png": "[encoded data removed]",
      "text/plain": [
       "<Figure size 360x360 with 1 Axes>"
      ]
     },
     "metadata": {},
     "output_type": "display_data"
    }
   ],
   "source": [
    "plt.figure(figsize=(5, 5))\n",
    "\n",
    "array_slice = X_train[32:33]\n",
    "prediction = model.predict(array_slice)\n",
    "\n",
    "plt.imshow(X_train_original[32,:,:],cmap='gray')\n",
    "plt.title(\"This image is a \"+str(y_train_original[32]) + \" and is predicted as a \" +\n",
    "          str(np.argmax(prediction)));\n"
   ]
  },
  {
   "cell_type": "markdown",
   "metadata": {},
   "source": [
    "Now we need to see how the training effectively went. Use `history_callback` to look at training and validation accuracy. Try to answer the following questions:\n",
    "\n",
    "- Did the model over- or underfit the data?\n",
    "- Do you think that training for more epochs would help?"
   ]
  },
  {
   "cell_type": "code",
   "execution_count": 10,
   "metadata": {},
   "outputs": [
    {
     "data": {
      "image/png": "[encoded data removed]",
      "text/plain": [
       "<Figure size 576x432 with 2 Axes>"
      ]
     },
     "metadata": {},
     "output_type": "display_data"
    }
   ],
   "source": [
    "#TODO: adapt the code from the previous notebook and plot accuracy and loss for training and test set\n",
    "\n",
    "fig, (ax1, ax2) = plt.subplots(2, figsize=(8, 6))\n",
    "\n",
    "colorstring = \"rgbcmk\"\n",
    "\n",
    "train_acc = history_callback.history['acc']\n",
    "train_loss = history_callback.history['loss']\n",
    "val_acc = history_callback.history['val_acc']\n",
    "val_loss = history_callback.history['val_loss']\n",
    "ax1.plot(train_acc, colorstring[0]+':', label=model.name+\" train\")\n",
    "ax1.plot(val_acc, colorstring[0], label=model.name+\" val\")\n",
    "ax2.plot(val_loss, colorstring[0], label=model.name)\n",
    "\n",
    "ax1.set_ylabel('accuracy')\n",
    "ax2.set_ylabel('loss')\n",
    "ax2.set_xlabel('epochs')\n",
    "ax1.legend()\n",
    "ax2.legend()\n",
    "plt.show()"
   ]
  },
  {
   "cell_type": "markdown",
   "metadata": {},
   "source": [
    "Go back to the previous code blocks and modify them, trying to achieve a better (or faster) result. Some suggestions:\n",
    "\n",
    "- how large can the batch size be? How does it influence the achieved accuracy?\n",
    "- how many epochs should you train for?\n",
    "- what optimizer should you use? We imported a bunch of different optimizers, but you can find more in the [_Optimizers_ section of the docs](https://keras.io/optimizers/)!\n",
    "- if your model overfits, you can either reduce the number of hidden layers, or add a dropout layer after each dense layer. It is as easy as writing `model.add(Dropout(dropout_prob))` after each dense layer!"
   ]
  }
 ],
 "metadata": {
  "kernelspec": {
   "display_name": "Python 3",
   "language": "python",
   "name": "python3"
  },
  "language_info": {
   "codemirror_mode": {
    "name": "ipython",
    "version": 3
   },
   "file_extension": ".py",
   "mimetype": "text/x-python",
   "name": "python",
   "nbconvert_exporter": "python",
   "pygments_lexer": "ipython3",
   "version": "3.6.5"
  }
 },
 "nbformat": 4,
 "nbformat_minor": 2
}
